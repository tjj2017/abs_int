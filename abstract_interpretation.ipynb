{
 "cells": [
  {
   "cell_type": "markdown",
   "id": "4a942d59-32ce-42e3-a290-1ed72440a7f2",
   "metadata": {},
   "source": [
    "# Abstract Interpretation of SPARK Programs"
   ]
  },
  {
   "cell_type": "markdown",
   "id": "be22bca2-fa7a-4253-b315-6e9ab45ff1b0",
   "metadata": {},
   "source": [
    "Traditionally, SPARK programs have been analysed by the Examiner using data flow and information flow analysis.  This study does not consider the proof features of the Examiner (VCG generator) but rather investigates whether the same or better results to flow analysis can be achieved using abstract interpretation. Better results may be achievable using abstract interpretation as it might be possible to determine some non-executable paths and exclude them from the analysis.  To achieve this goal, two of the more advanced techniques of abstract interpretation - variable analysis and path analysis are needed. \n",
    "\n",
    "The SPARK language was developed to achieve accurate and straightforward flow analysis. Many of the restrictions placed on Ada by SPARK to make it amenable to flow analysis may also be advantageous for abstract interpretation.  \n"
   ]
  },
  {
   "cell_type": "markdown",
   "id": "1e630d2c-da69-4b84-8d43-b01401bdc7ac",
   "metadata": {},
   "source": [
    "## Abstract Interpretation\n",
    "Abstract interpretation is commonly viewed as having three stages:\n",
    "1. Translate\n",
    "2. Merge\n",
    "3. Widen\n",
    "\n",
    "These three stages are applied to each statement of the given source text until it has been completed.\n",
    "\n",
    "Translate converts a statement into a simple model representing the statement.  Merge takes the model of the statement and the abstractions of the immediately preceding statements (in general, there may be more than one due to gotos if statements and loops) and merges them into a single abstraction for the statement.  The abstraction is an approximation of the state at the statement.  Generally, it consists of an entry for each variable and an approximation of the range of values that variable may have at the statement.  The Widen stage is typically used after loops to widen the approximate range of possible values a variable may have to represent executing the loop multiple times.\n",
    "\n",
    "What is interesting about these stages is that they can be adapted to suit a number of different analyses but still fit within the framework of calling each of the three stages for each statement.\n",
    "\n",
    "For instance,  constant analysis is may be used to obtain an approximation of the range of values a variable may have at a particular statement based on the value of constants within the source text.  Variable analysis is similar but more complex based on the expressions assigned to variables within the source text.\n",
    "\n",
    "To perform abstract interpretation, an abstract model of the source text needs to be constructed consisting of a model of each statement (the translation) and a sequence of abstractions representing each of the previous statements.  Merge consolidates the immediately preceding statements with the model of the current statement to obtain an abstraction for the current statement which is appended to the sequence.  Merging is a simple operation when the statement has only one immediate predecessor but becomes a little more complex around if statements, loops and the targets of goto statements.\n",
    "\n",
    "SPARK has the advantage over general programming language in that, other than in a loop, an immediately preceding statement cannot be later in text than the current statement, simplifying the sequence of preceding statements that need to be maintained.  As SPARK is modular and each subprogram is essentially self-contained and only variables used within the subprogram need to be in the abstractions, very little extra context has to be maintained and the sequence of abstractions can be discarded after completing the analysis of the subprogram.\n",
    "\n",
    "This study starts with the simple but very important check for SPARK variable defindness.   In Ada terms, ideally is every variable initialised to a valid value before it is read.  "
   ]
  },
  {
   "cell_type": "markdown",
   "id": "ef5a4d36-24d3-4097-8d8b-a345feb33250",
   "metadata": {},
   "source": [
    "## Abstract Interpretation of Defindness\n",
    "Abstract interpretaion uses an abstraction based on an approximation the range of values a variable may have at a given statement.  In variable defindness we are concerned whether a variable has been assigned a (preferably valid) value but are not concerned with the precise value.  A representatation of the values of defindness needs to used.\n",
    "\n",
    "Consider a model to represent the values of defindness. Each variable may have a few possible values:\n",
    "\n",
    "1. Uninitialized\n",
    "2. Unsound\n",
    "3. Assigned\n",
    "4. Read\n",
    "\n",
    "Uninitalized, the variable has not been assigned a value, Unsound, the variable has been assigned an Unitialized or Unsound value, Assigned the variable has been assigned a value not dependent on an uninitialized or unsound value and Read, the variable has been read. The value Unsound represents a value that has been derived from an Unintialized value.  An Assigned value is not necessarily a Valid value in the Ada sense as a value could be Assigned to a variable which is out of range and therefore an invalid value.  A more sophisticated abstract interpretation technique may be able to approximate the range of values a variable may have.\n",
    "\n",
    "The statements of a subprogram Read or Assign variables. The Read of a variable with an Uninitialized value is erroneous and the Read of a variable with an Unsound value is of questionable Validity.  Two successive Assignments to the same variable without an intervening Read of the variable means (in SPARK) the value of the first assignment is unused and therefore may suggest a programming mistake. \n",
    "\n",
    "In a single statement a variable may be both read and assigned but in SPARK expressions do not have side-effects so the all the variables on the right hand side of an assignment statement are only Read.  On the left hand side only array indices are Read although, unusually in object dclarations, more than one variable may be assigned.  In a subprogram call, formal parameters of mode **in** or **in out** are modelled as Reads of the corresponding actual parameters.  Similarly, formal paramaters of mode **out** or **in out** are modelled as Assignment to the corresponding actual actual parameters in a procedure call statement.  A subprogram can have many parameters and globals leading to the model of a statement potentially having multiple Reads of variables (possibly of the same variable) and multiple Assignments of variables.  All assignments in a single statement are to unique variables.\n",
    "\n",
    "The proposed translation first considers all of variables read by the statement and then those that are assigned by the statement. This avoids ambiguity when the same variable is both read and written by the statement.  Each read and assignment of a variable will have a separate entry in the translation.  For instance:\n",
    "\n",
    "    X := X + X + Y;\n",
    "\n",
    "would be translated as:\n",
    "\n",
    "    Read_Var   (X)\n",
    "    Read_Var   (X)\n",
    "    Read_Var   (Y)\n",
    "    Assign_Var (X)\n",
    "\n",
    "To keep an association between the translation and the statement a position and a translation item is needed.  For simplicity, in this study, only one statement per line is assumed and so the can just be the line number.\n",
    "\n",
    "Assuming the above statement is on line 10, the translation becomes:\n",
    "\n",
    "    Read   (X, (10, 1))\n",
    "    Read_  (X, (10, 2))\n",
    "    Read   (Y, (10, 3))\n",
    "    Assign (X, (10, 4))\n",
    "\n",
    "It may not be necessary to record the two Reads of X, one may be sufficient as a Read does not change the state of the variable.\n",
    "\n",
    "The call of a procedure, \n",
    "\n",
    "**procedure** P (A : **in** Integer; B : **in out** Integer; C : **out** Integer);\n",
    "\n",
    "on line 20\n",
    "\n",
    "    P (X, Y, X);\n",
    "\n",
    "would be translated as (assuming no dependency relation given):\n",
    "\n",
    "    Read_Var   (X, (20, 1))\n",
    "    Read_Var   (Y, (20, 2))\n",
    "    Assign_Var (Y, (20, 3))\n",
    "    Read_Var   (X, (20, 4))\n",
    "    Read_Var   (Y, (20, 5))\n",
    "    Assign_Var (X, (20, 6))\n",
    "\n",
    "It is important that the Reads of variables use the value of the variable from the merged value of the immidiately preceding statements rather than the values Assigned in the by the procedure call.\n",
    "\n",
    "Each statement has an abstraction representing the state of all variables on completion of execution of the statement.  The abstraction at the statement is formed by the merging the abstractions of all immediately preceding statements and applying the effects of the current statement.  Commonly, an abstraction has a notion of the range of values that a variable may have at the statement.  For defindness the maximum range is [Uninitalized, Assigned], athough in defindness there is not necessarily an order to these posible values but for simplicity an oreder is assumed Unintialized < Unsound < Assigned < Read.  A merge has to take the abstractions from the immediately preceding statements and the translation of the statement form this pair of values.\n",
    "\n",
    "First consider the merge of the immediately preceding statements.  This part of the merge determines the widest range of values that the variable could take from the abstractions of all of its immediately preceding statements.  That is, the lower bound is taken to be lowest bound of all its immediate predecessors and the high bound from the highest.\n",
    "\n",
    "Next consider the variables that are Read by the statement.  SPARK flow analysis reports on all uses of an uninialized variable, whether this be unconditional (it will always happen when executing the program) or conditional (it will happen dependent on the excution path taken when the program is run). The abstract interpretation model of defindness needs to do this too.\n",
    "\n",
    "If a variable Read by a statement has a range in the merged immediately prceeding statements of [Uninitialized, Uninitialized], then this is clearly an unconditional Read of an Uninitialized variable and should be reported.  In this case the range remains as [Uninitialized, Uninitialized] as a Read of the variable does not change its value - it is still Uninitialized.  If the lower bound of the variable in the merged statements is Uninitialized but the upper bound is Assigned or Read, then this is the conditional use of an uninitialized variable and should be reported as such.  The lower bound should remain as Uninitialized as the Read of the variable has not changed this, however if the upper bound is Assigned or Read it should become Read as the previously Assigned or Read variable has been Read.\n",
    "\n",
    "Determining the range of a Unsound variable is similar.  If the range of the variable is [Uninitialized, Unsound] or [Unsound, Unsound] then a Read of the variable does not change its value.  If the range of the variable is [Unsound, Assigned] then it becomes [Unsound, Read] after the Read of the variable and a variable with the range [Unsound, Read] remains unchanged. \n",
    "\n",
    "In summary here are the rules for the effects of a Read of a variable on the variable:\n",
    "\n",
    "    Merged Bounds                   <Read_Var  New Bounds   \n",
    "    [Uninitialized, Uninitialized]     ->     [Uninitialized, Uninitialized] (1)\n",
    "    [Uninitialized, Unsound]           ->     [Uninitialized, Unsound] \n",
    "    [Uninitialized, Assigned]          ->     [Uninitialized, Read]          (2)\n",
    "    [Unsound, Unsound]                 ->     [Unsound, Unsound]\n",
    "    [Unsound, Assigned]                ->     [Unsound, Read]\n",
    "    [Unsound, Read]                    ->     [Unsound, Read]\n",
    "    [Assigned, Assigned]               ->     [Assigned, Read]\n",
    "    [Assigned, Read]                   ->     [Assigned, Read]\n",
    "    [Read, Read]                       ->     [Read, Read]\n",
    "\n",
    "Notes:\n",
    "(1) Issue an unconditional Read of an uninitialized variable message.\n",
    "(2) Issue a conditional Read of an uninitialized variable message.\n",
    "\n",
    "It is not clear that a message should be issued yet regarding the Read of an Unsound variable.\n",
    "\n",
    "Assigning to a variable potentially changes its value dependent on any variables Read in determining its (defindness) value.  SPARK flow analysis also reports on two successive assignments to a variable without an intervining read of the variable.   The value of the first assignment is not used and may be a mistake in the program.  Such assignments should be detected with abstract interpretation too.\n",
    "\n",
    "First consider bounds of the Read variables in this statement, after the Read variable action has been applied as described above, that are used in determing the defindness value of the assignment.  If any of bounds of the variables Read have a lower bound of less than Assigned, the the value is questionable and the lower bound of the assignment value should set to Unsound.  If the upper bound is Uninitialized or Unsound, then the upper bound should also be set to Unsound as the (actual as opposed to defindness) value assigned must have an Unsound defindness value.\n",
    "\n",
    "In summary the effects of the variables Read in determiming the value of the assignment are below but only the possible bounds as given above are included:\n",
    "\n",
    "    Bounds of Read Variable            Bounds of Assignment Value\n",
    "    [Uninitialized, Uninitialized] -> [Unsound, Unsound]   \n",
    "    [Uninitialized, Unsound]       -> [Unsound, Unsound]   \n",
    "    [Uninitialized, Read]          -> [Unsound, Assigned] \n",
    "    [Unsound, Unsound]             -> [Unsound, Unsound]\n",
    "    [Unsound, Read]                -> [Unsound, Assigned]\n",
    "    [Assigned, Read]               -> [Assigned, Assigned]\n",
    "    [Read, Read]                   -> [Assigned, Assigned]\n",
    "\n",
    "There is one further check that is needed to detect successive assignments without an intervening read.  If the Assigned variable is not one of the Read variables used in determining the assignment value and its bounds obtained from the merged bounds of the immediately preceding statements is [Assigned, Assigned], then its value has not been read since its last assignment and a warning message should be issued.\n",
    "\n",
    "It would be possible to check that read only variables (constants in Ada or **in** mode parameters) are not Assigned but Ada compilers already do this check."
   ]
  },
  {
   "cell_type": "markdown",
   "id": "b96eea70-fdff-4118-bb7a-8a43a0648318",
   "metadata": {},
   "source": [
    "\n",
    "So far individual statements have been considered but the basic analysis unit in SPARK is the subprogram and further actions than just Read variable and Assign variable are needed as well as more analysis of the final abstract state of the subprogram.\n",
    "\n",
    "The subprogram declaration has to be translated into a model.  A subprogram may have mode **in**, **out**, or **in out** parameters. To keep the astraction simple, the mode **in** and **in out** parameters are modelled as a pre assigned input auxillary variable (assigned when the subprogram is called and have bounds [Assigned, Assigmed]) and the mode **out** and **in out** parameters are modelled as output auxilliary variables which are Assigned on completion of the subprogram (the **end** keyword) and initially have bounds [Uninitialized, Uninitialized]. \n",
    "\n",
    "The the formal parameters are treated as variables local to the subprogram.  A formal parameter which has mode **in** or **in out** is assigned from the input auxillary variable giving it bounds [Assigned, Read].  On completion of the subprogram interpretation formal parameters of mode **in out** or **out** are assigned to the output auxilliary variables.  For example, the procedure declaration:\n",
    "\n",
    "    procedure P (A : in Integer; B : in out Integer; C : out Integer);\n",
    "\n",
    "will be translated as:\n",
    "\n",
    "    In_Param   (A__in,  (1, 1))      (A__in,  (Assigned, (1, 1)), (Assigned, (1 ,1)))\n",
    "    Declare    (A, (1, 2))           (A,      (Uninitialized (1, 2)), (Uninintialized, 91, 2)))\n",
    "    Read_Var   (A__in, (1, 3))       (A__in,  (Assigned, (1, 1)), (Read, (1, 3)))\n",
    "    Assign_Var (A,     (1, 4))       (A,      (Assigned, (1, 4)), (Assigned, (1, 4)))\n",
    "    In_Param   (B__in,  (1, 5))      (B__in,  (Assigned, (1, 5)), (Assigned, (1, 5)))\n",
    "    Out_Param  (B__out, (1, 6))      (B__out, (Uninitialized, (1, 6)), (Uninitialized, (1, 6)))\n",
    "    Declare    (B,      (1, 7))      (B,      (Uninitialized, (1, 7)), (Unintialized, (1, 7)))\n",
    "    Read_Var   (B__in,  (1, 8))      (B__in,  (Assigned, (1, 5)), (Read, (1, 8)))\n",
    "    Assign_Var (B,      (1, 9))      (B,      (Assigned, (1, 9)), (Assigned, (1, 9)))\n",
    "    Out_Param  (C__out, (1, 10))     (C__out, (Uninitialized, (1, 10)), (Uninitialized, (1, 10)))\n",
    "    Declare    (C,      (1, 11))     (C,      (Uninitialized, (1, 11)), (Uninitialized, (1, 11)))\n",
    "\n",
    "                                 (A__in,  (Assigned, (1, 1)), (Read, (1, 3)))\n",
    "                                 (B__in,  (Assigned, (1, 4)), (Read, (1, 8)))\n",
    "                                   (B__out, (Uninitialized, (1, 6)), (Uninitialized, (1, 6)))\n",
    "                                   (C__out, (Uninitialized, (1, 10)), (Uninitialized, (1, 10)))\n",
    "                                   (A,      (Assigned, (1, 4)), (Assigned, (1, 4)))\n",
    "                                   (B,      (Assigned, (1, 9)), (Assigned, (1, 9)))\n",
    "                                   (C,      (Uninitialized, (1, 11)), (Uninitialized, (1, 11)))\n",
    "\n",
    "In SPARK all parameters of a function subprogram must be mode **in** so, in principle, the input auxillary variables can dispensed with and the formal parameters used directly in the interpretation but they would have initial bounds of [Assigned, Assigned].  The return value modelled as an auxillary output variable that is Assigned to by the return statement.\n",
    "\n",
    "SPARK requires all global variables used by a subprogram to be included in the subprogram declaration these also have a mode **in**, **in out** or **out** and are treated simlarly to formal parameters.  However, Ada compilers do not check the correct use (according to their mode) of global variables as is done with parameters.  For instance, an Ada compiler does not report the assignment to a mode **in** global variable.  Extra checks for correct use of global variables are needed when interpreting assignments.\n",
    "\n",
    "Local variable declarations also have to considered as these introduce new variables into the state abtraction.  Local variables will have initial bounds of [Uninitialized, Uninitialized] but if they have an initialization expression it will be translated as an Assignment.\n",
    "\n",
    "\n",
    "Some rules are needed for merge, for the moment consider only simple source text which has no if, or loop statements (straight line code):\n",
    "\n",
    "    Previous Value        Statement Model  New Value   \n",
    "    Uninitialized <merge> Read_Var         -> Unsound  --  Use of an uninitialised variable\n",
    "    Uninitialized <merge> Assign_Var       -> Assigned\n",
    "    Read          <merge> Read_Var         -> Read\n",
    "    Read          <merge> Assign_Var       -> Assigned\n",
    "    Assigned      <merge> Read_Var         -> Read\n",
    "    Assigned      <merge> Assign_Var       -> Assigned --  Previously assigned value is unused\n",
    "    Unsound       <merge> Read_Var         -> Unsound  --  The value read may be unsound\n",
    "    Unsound       <merge> AssignVar        -> Assigned\n",
    "\n",
    "In SPARK there is not a statement to Uninitialise a variable or to set it as unsound so these states do not appear in the Statement Model above.  A variable is uninitialised when declared, so the model of a declaration is Uninitialized but it has no previous state.  The Unsound state can only be entered by a Read of an Uninitialised state or the Read of an Unsound state. Consequently, if a Previous State is Read then it must have previously been Assigned.  \n",
    "\n",
    "As the abstraction has a pair of states to represent the \"range\" of values a variable might have at a paricular statement, the Previous State for the variable forms one of the pair and the newly merged state is the other.\n",
    "\n",
    "When There is more than one immediately preceding statement (in SPARK after an if, case or loop statement) these rules will have to be applied for each predecessor and then the state pairs could show a significant difference depending on the path taken eg., (Assigned, Uninitialised) meaning that on one path the variable associated with the state pair is Uninitialised. \n",
    "\n",
    "### Straight Line Code\n",
    "\n",
    "First, consider the following simple SPARK procedure taken from early SWES courses.\n",
    "\n",
    "    procedure Swap (X : in out Integer; Y : in out Integer) is\n",
    "      Temp : Integer;\n",
    "    begin\n",
    "      Temp := X;\n",
    "      X := Y;\n",
    "      Y := Temp;\n",
    "    end Swap;\n",
    "\n",
    "As it is written there are no uses of uninitialised variables.\n",
    "\n",
    "Using the ideas for models and abstractions the following spreadsheet was constructed to demonstrate using abstract interpretation to check for defindness.\n",
    "\n",
    "![image.png](attachment:84ecc425-647b-4f3d-ac88-001f7b003066.png)"
   ]
  },
  {
   "cell_type": "markdown",
   "id": "d4a5ea28-7083-421f-a74d-347140b4771f",
   "metadata": {},
   "source": [
    "#### Python Version of Spreadsheet\n",
    "The Translate operation of the Abstract Interpretation is done by hand.\n",
    "\n",
    "An enumeration is introduced to represent the possible states of a variable and two named tuples are declared to  of an action and the action and the variable to which it refers.\n",
    "\n",
    "Two sequences are now declared, one to record where each statement starts and one containing the expanded and translated statements."
   ]
  },
  {
   "cell_type": "markdown",
   "id": "c4fd5d7b-4854-41ca-9cd0-f83255719a1c",
   "metadata": {},
   "source": [
    "When conditional statements are considered the structure will be more complex but first consider straight line code in which only the current statement translation and the abstraction current at the immediatly preceding statement have to be merged.\n",
    "A set of rules for merging and a data structure representing the abstract state is required.  The merge rules may be represented as a matrix and the abstract state, looking at the spreadsheet could be an extension of the Expansion structure."
   ]
  },
  {
   "cell_type": "code",
   "execution_count": 103,
   "id": "74cb5bce-ef93-4f71-88cf-93c95b17c9ee",
   "metadata": {},
   "outputs": [],
   "source": [
    "from enum import Enum\n",
    "class Defindness (Enum):\n",
    "    UNINITIALIZED = 1\n",
    "    READ          = 2\n",
    "    ASSIGNED      = 3\n",
    "    UNSOUND       = 4\n",
    "    @classmethod\n",
    "    def pos (cls, state):\n",
    "        return state.value - 1\n",
    "\n",
    "class Translate_Actions (Enum):\n",
    "    READ_VAR    = 1\n",
    "    ASSIGN_VAR  = 2\n",
    "    IN_PARAM    = 3\n",
    "    OUT_PARAM   = 4\n",
    "    DECLARE_VAR = 5\n",
    "    @classmethod\n",
    "    def pos (cls, act):\n",
    "        return act.value - 1\n",
    "    \n",
    "State  = Enum('State',  ['UNINITIALIZED', 'READ', 'ASSIGNED', 'UNSOUND'])\n",
    "Action = Enum('Action', ['READ_VAR', 'ASSIGN_VAR', 'IN_PARAM', 'OUT_PARAM', 'DECLARE_VAR'])\n",
    "\n",
    "import collections\n",
    "Position  = collections.namedtuple ('Postition', ['line', 'expand'])\n",
    "Expansion = collections.namedtuple ('Expansion',['var', 'action', 'position'])\n",
    "\n",
    "translation = [\n",
    "    [Expansion(\"X__in\",  Action.IN_PARAM,    Position(0, 1)),  # Statement 0 represents declaring a \n",
    "     Expansion(\"X__out\", Action.OUT_PARAM,   Position(0, 2)),  # variable for each in and out parameter.\n",
    "     Expansion(\"Y__in\",  Action.IN_PARAM,    Position(0, 3)),  # Variables with the parameter names\n",
    "     Expansion(\"Y__out\", Action.OUT_PARAM,   Position(0, 4)),  # are declared for use within the\n",
    "     Expansion(\"X\",      Action.DECLARE_VAR, Position(0, 5)),  # translation of the body of the\n",
    "     Expansion(\"Y\",      Action.DECLARE_VAR, Position(0, 6))], # subprogram.\n",
    "     \n",
    "    [Expansion(\"X__in\",  Action.READ_VAR,     Position(1, 1)),  # The in parameters are assigned to the\n",
    "     Expansion(\"Y__in\",  Action.READ_VAR,     Position(1, 2)),  # local variables X and Y.\n",
    "     Expansion(\"X\",      Action.ASSIGN_VAR,   Position(1, 3)),\n",
    "     Expansion(\"Y\",      Action.ASSIGN_VAR,   Position(1, 4))],\n",
    "\n",
    "    [Expansion(\"Temp\",   Action.DECLARE_VAR,  Position(2, 1))], # The declaration of Temp.\n",
    "                                                                # The begin keyword is not translated?\n",
    "    [Expansion(\"X\",      Action.READ_VAR,     Position(4, 1)),\n",
    "     Expansion(\"Temp\",   Action.ASSIGN_VAR,   Position(4, 2))],\n",
    "\n",
    "    [Expansion(\"Y\",      Action.READ_VAR,     Position(5, 1)),\n",
    "     Expansion(\"X\",      Action.ASSIGN_VAR,   Position(5, 2))],\n",
    "\n",
    "    [Expansion(\"Temp\",   Action.READ_VAR,     Position(6, 1)),\n",
    "     Expansion(\"Y\",      Action.ASSIGN_VAR,   Position(6, 2))],\n",
    "\n",
    "    [Expansion(\"X\",      Action.READ_VAR,     Position(7, 1)),  # end keyword denotes updating the out\n",
    "     Expansion(\"Y\",      Action.READ_VAR,     Position(7, 2)),  # parameters.\n",
    "     Expansion(\"X__out\", Action.ASSIGN_VAR,   Position(7, 3)),\n",
    "     Expansion(\"Y__out\", Action.ASSIGN_VAR,   Position(7, 4))]]"
   ]
  },
  {
   "cell_type": "code",
   "execution_count": 104,
   "id": "f96d4a05-18e9-4c1c-8e28-70766bc50de5",
   "metadata": {},
   "outputs": [
    {
     "data": {
      "text/plain": [
       "[[Expansion(var='X__in', action=<Action.IN_PARAM: 3>, position=Postition(line=0, expand=1)),\n",
       "  Expansion(var='X__out', action=<Action.OUT_PARAM: 4>, position=Postition(line=0, expand=2)),\n",
       "  Expansion(var='Y__in', action=<Action.IN_PARAM: 3>, position=Postition(line=0, expand=3)),\n",
       "  Expansion(var='Y__out', action=<Action.OUT_PARAM: 4>, position=Postition(line=0, expand=4)),\n",
       "  Expansion(var='X', action=<Action.DECLARE_VAR: 5>, position=Postition(line=0, expand=5)),\n",
       "  Expansion(var='Y', action=<Action.DECLARE_VAR: 5>, position=Postition(line=0, expand=6))],\n",
       " [Expansion(var='X__in', action=<Action.READ_VAR: 1>, position=Postition(line=1, expand=1)),\n",
       "  Expansion(var='Y__in', action=<Action.READ_VAR: 1>, position=Postition(line=1, expand=2)),\n",
       "  Expansion(var='X', action=<Action.ASSIGN_VAR: 2>, position=Postition(line=1, expand=3)),\n",
       "  Expansion(var='Y', action=<Action.ASSIGN_VAR: 2>, position=Postition(line=1, expand=4))],\n",
       " [Expansion(var='Temp', action=<Action.DECLARE_VAR: 5>, position=Postition(line=2, expand=1))],\n",
       " [Expansion(var='X', action=<Action.READ_VAR: 1>, position=Postition(line=4, expand=1)),\n",
       "  Expansion(var='Temp', action=<Action.ASSIGN_VAR: 2>, position=Postition(line=4, expand=2))],\n",
       " [Expansion(var='Y', action=<Action.READ_VAR: 1>, position=Postition(line=5, expand=1)),\n",
       "  Expansion(var='X', action=<Action.ASSIGN_VAR: 2>, position=Postition(line=5, expand=2))],\n",
       " [Expansion(var='Temp', action=<Action.READ_VAR: 1>, position=Postition(line=6, expand=1)),\n",
       "  Expansion(var='Y', action=<Action.ASSIGN_VAR: 2>, position=Postition(line=6, expand=2))],\n",
       " [Expansion(var='X', action=<Action.READ_VAR: 1>, position=Postition(line=7, expand=1)),\n",
       "  Expansion(var='Y', action=<Action.READ_VAR: 1>, position=Postition(line=7, expand=2)),\n",
       "  Expansion(var='X__out', action=<Action.ASSIGN_VAR: 2>, position=Postition(line=7, expand=3)),\n",
       "  Expansion(var='Y__out', action=<Action.ASSIGN_VAR: 2>, position=Postition(line=7, expand=4))]]"
      ]
     },
     "execution_count": 104,
     "metadata": {},
     "output_type": "execute_result"
    }
   ],
   "source": [
    "translation"
   ]
  },
  {
   "cell_type": "code",
   "execution_count": 105,
   "id": "e56735af-e53f-4795-9004-6b345a046f80",
   "metadata": {},
   "outputs": [],
   "source": [
    "statements = [\n",
    "    0,  # Represent setting values of in parameters in a procedure call.\n",
    "    7,  # procedure Swap (X : in out Integer; Y : in out Integer) is\n",
    "    11, # Temp : Integer;\n",
    "    12,  # Temp := X;\n",
    "    14, # X := Y;\n",
    "    16, # Y := Temp;\n",
    "    18  # end; Represent setting values of out parameters.\n",
    "]"
   ]
  },
  {
   "cell_type": "code",
   "execution_count": 106,
   "id": "5d6be141-a85e-4889-bf38-adaa862172fa",
   "metadata": {},
   "outputs": [
    {
     "data": {
      "text/plain": [
       "[0, 7, 11, 12, 14, 16, 18]"
      ]
     },
     "execution_count": 106,
     "metadata": {},
     "output_type": "execute_result"
    }
   ],
   "source": [
    "statements"
   ]
  },
  {
   "cell_type": "markdown",
   "id": "ee7a8369-05fe-4883-80c7-014050fc9acf",
   "metadata": {},
   "source": [
    "When conditional statements are considered the structure will be more complex but first consider straight line code in which only the current statement translation and the abstraction current at the immediatly preceding statement have to be merged.\n",
    "A set of rules for merging and a data structure representing the abstract state is required.  The merge rules may be represented as a matrix and the abstract state, looking at the spreadsheet could be an extension of the Expansion structure."
   ]
  },
  {
   "cell_type": "markdown",
   "id": "1d5419b8-be39-42ea-af3a-453c4aa1e2e2",
   "metadata": {},
   "source": [
    "\n",
    "|                  |READ_VAR     |ASSIGN_VAR |IN_PARAM |OUT_PARAM     |DECLARE_VAR   |\n",
    "|------------------|-------------|-----------|---------|--------------|--------------|\n",
    "|**UNINITIALIZED** |UNSOUND      |ASSIGNED   |ASSIGNED |UNINITIALIZED |UNINITIALIZED |\n",
    "|**READ**          |READ         |ASSIGNED   |ASSIGNED |UNINITIALIZED |UNINITIALIZED | \n",
    "|**ASSIGNED**      |READ         |ASSIGNED   |ASSIGNED |UNINITIALIZED |UNINITIALIZED | \n",
    "|**UNSOUND**       |UNSOUND      |ASSIGNED   |ASSIGNED |UNINITIALIZED |UNINITIALIZED |\n",
    "\n",
    "There is a lot of redundancy in this table, it is immaterial what the current state is for the actions IN_PARAM, OUT_PARAM or DECLARE_VAR.  Similarly for ASSIGN_VAR except that two successive assigns without an intervening read is a reportable state change.  The matrix is only small so the redundancy is of little concern. \n",
    "\n",
    "In Python the matrix is represented as a list of lists."
   ]
  },
  {
   "cell_type": "code",
   "execution_count": 135,
   "id": "20c8048c-9fc1-465e-8165-9ca7eddebfd9",
   "metadata": {},
   "outputs": [],
   "source": [
    "  # READ_VAR      ASSIGN_VAR     IN_PARAM        OUT_PARAM            DECALRE_VAR\n",
    "merge_matrix = [\n",
    "  # READ_VAR      ASSIGN_VAR     IN_PARAM        OUT_PARAM            DECALRE_VAR\n",
    " [State.UNSOUND, State.ASSIGNED, State.ASSIGNED, State.UNINITIALIZED, State.UNINITIALIZED],# UNINITIALIZED\n",
    " [State.READ,    State.ASSIGNED, State.ASSIGNED, State.UNINITIALIZED, State.UNINITIALIZED],# READ\n",
    " [State.READ,    State.ASSIGNED, State.ASSIGNED, State.UNINITIALIZED, State.UNINITIALIZED],# ASSIGNED\n",
    " [State.UNSOUND, State.ASSIGNED, State.ASSIGNED, State.UNINITIALIZED, State.UNINITIALIZED] # UNSOUND\n",
    "]"
   ]
  },
  {
   "cell_type": "code",
   "execution_count": 134,
   "id": "a791151f-72f4-4ce5-aace-c384e0a486bc",
   "metadata": {},
   "outputs": [
    {
     "data": {
      "text/plain": [
       "<State.UNSOUND: 4>"
      ]
     },
     "execution_count": 134,
     "metadata": {},
     "output_type": "execute_result"
    }
   ],
   "source": [
    "merge_matrix [Defindness.pos(State.UNSOUND)][Translate_Actions.pos(Action.READ_VAR)]"
   ]
  },
  {
   "cell_type": "markdown",
   "id": "b1305efc-9822-4a8e-8da9-6bbd9f798585",
   "metadata": {},
   "source": [
    "The detection of errant actions of reading an uninitialized variable or an unsound value is directly available from the matrix but two assignments of the same variable without an intervening read is not.  Nor is assignment of an unsound value.  Is Unread another state? - but then what happens to assigned?"
   ]
  },
  {
   "cell_type": "markdown",
   "id": "4b9fdac5-1510-4d07-ae06-6a42784024b1",
   "metadata": {},
   "source": [
    "Consider the structure of the abstract state.  It contains an element for each variable in the subprogram.  Each element contains the merged state of the variable after the current instruction.  For error reporting the position may be needed too.  The requirements look the same as for the Expansion. "
   ]
  },
  {
   "cell_type": "code",
   "execution_count": null,
   "id": "787720be-59a0-4969-b341-e302985cdd3a",
   "metadata": {},
   "outputs": [],
   "source": [
    "State = Enum('Action', ['UNINITIALIZED', 'READ', 'ASSIGNED', 'UNSOUND'])\n",
    "\n",
    "Var_State = collections.namedtuple ('Var_State',['var', 'state', 'position'])\n"
   ]
  }
 ],
 "metadata": {
  "kernelspec": {
   "display_name": "Python 3 (ipykernel)",
   "language": "python",
   "name": "python3"
  },
  "language_info": {
   "codemirror_mode": {
    "name": "ipython",
    "version": 3
   },
   "file_extension": ".py",
   "mimetype": "text/x-python",
   "name": "python",
   "nbconvert_exporter": "python",
   "pygments_lexer": "ipython3",
   "version": "3.12.7"
  }
 },
 "nbformat": 4,
 "nbformat_minor": 5
}

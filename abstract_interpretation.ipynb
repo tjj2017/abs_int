{
 "cells": [
  {
   "cell_type": "markdown",
   "id": "4a942d59-32ce-42e3-a290-1ed72440a7f2",
   "metadata": {},
   "source": [
    "# Abstract Interpretation of SPARK Programs"
   ]
  },
  {
   "cell_type": "markdown",
   "id": "be22bca2-fa7a-4253-b315-6e9ab45ff1b0",
   "metadata": {},
   "source": [
    "Traditionally, SPARK programs have been analysed by the Examiner using data flow and information flow analysis.  This study does not consider the proof features of the Examiner (VCG generator) but rather investigates whether the same or better analysis can be achieved using abstract interpretation as the current flow analysis techniques. Better results may be achievable using abstract interpretation as it might be possible to determine some non-executable paths and exclude them from the analysis.  To achieve this goal, two of the more advanced techniques of abstract interpretation - variable analysis and path analysis are needed. \n",
    "\n",
    "The SPARK language was developed to achieve accurate and straightforward flow analysis. Many of the restrictions placed on Ada by SPARK to make it amenable to flow analysis may also be advantageous for abstract interpretation.  \n"
   ]
  },
  {
   "cell_type": "markdown",
   "id": "1e630d2c-da69-4b84-8d43-b01401bdc7ac",
   "metadata": {},
   "source": [
    "## Abstract Interpretation\n",
    "Abstract interpretation is commonly viewed as having three stages:\n",
    "1. Translate\n",
    "2. Merge\n",
    "3. Widen\n",
    "\n",
    "These three stages are applied to each statement of the given source text until it has been completed.\n",
    "Translate converts a statement into an abstraction representing the statement.  Merge takes the abstractions of the immediately preceding statements (in general, there may be more than one due to gotos if statements and loops) and merges them into a single abstraction for the statement.  Widen is typically used after loops to widen the approximation to represent executing the loop multiple times.\n",
    "\n",
    "What is interesting about these stages is that they can be adapted to suit a number of different analyses but still fit within the framework of calling each of the three stages for each statement.\n",
    "\n",
    "For instance,  constant analysis is may be used to obtain an approximation of the range of values a variable may have at a particular statement based on the value of constants within the source text.  Variable analysis is similar but more complex based on the expressions assigned to variables within the source text.\n",
    "\n",
    "To perform abstract interpretation, an abstract model of the source text needs to be constructed consisting of a model of each statement and a sequence of abstractions representing each of the previous statements.\n",
    "\n",
    "SPARK has the advantage over general programming in that, other than in a loop, an immediately preceding statement cannot be later in text than the current statement, simplifying the sequence of preceding statements that need to be maintained.  As SPARK is modular and each subprogram is essentially self-contained, very little extra context has to be maintained and the sequence of abstractions can be discarded after completing the analysis of the subprogram.\n",
    "\n",
    "This study starts with the simple but very important check for SPARK variable defindness.   In Ada terms, is every variable initialised to a valid value before it is read?"
   ]
  },
  {
   "cell_type": "markdown",
   "id": "59881936-2ad7-4a81-b810-8e46f0ffa4b5",
   "metadata": {},
   "source": [
    "## Abstract Interpretation of Defindness\n",
    "Consider an abstract model to represent defindness. Each variable may have a few possible states (possibly more than one as, for instance, a variable may be both read and at each \n",
    "\n",
    "1 Uninitialized\n",
    "2 Assigned\n",
    "3 Read\n",
    "4 Unsound\n",
    "\n",
    "The first three states are obvious and, unsound, represents a variable that is assigned from an uninitialised variable or an unsound variable and may have an invalid value.\n",
    "\n",
    "First, consider the following simple SPARK procedure taken from early SWES courses.\n",
    "\n",
    "    procedure Swap (X : in out Integer; Y : in out Integer) is\n",
    "      Temp : Integer;\n",
    "    begin\n",
    "      Temp := X;\n",
    "      X := Y;\n",
    "      Y := Temp;\n",
    "    end Swap;\n",
    "\n",
    "As it is written there are no uses of uninitialised variables."
   ]
  },
  {
   "cell_type": "code",
   "execution_count": null,
   "id": "94f4c08e-1d86-4ea3-bc00-9f9eca57f65b",
   "metadata": {},
   "outputs": [],
   "source": []
  }
 ],
 "metadata": {
  "kernelspec": {
   "display_name": "Python 3 (ipykernel)",
   "language": "python",
   "name": "python3"
  },
  "language_info": {
   "codemirror_mode": {
    "name": "ipython",
    "version": 3
   },
   "file_extension": ".py",
   "mimetype": "text/x-python",
   "name": "python",
   "nbconvert_exporter": "python",
   "pygments_lexer": "ipython3",
   "version": "3.12.7"
  }
 },
 "nbformat": 4,
 "nbformat_minor": 5
}

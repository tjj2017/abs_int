{
 "cells": [
  {
   "cell_type": "markdown",
   "id": "4a942d59-32ce-42e3-a290-1ed72440a7f2",
   "metadata": {},
   "source": [
    "# Abstract Interpretation of SPARK Programs"
   ]
  },
  {
   "cell_type": "markdown",
   "id": "be22bca2-fa7a-4253-b315-6e9ab45ff1b0",
   "metadata": {},
   "source": [
    "Traditionally, SPARK programs have been analysed by the Examiner using data flow and information flow analysis.  This study does not consider the proof features of the Examiner (VCG generator) but investigates whether the same or better analysis can be achieved using abstract interpretation as the current flow analysis techniques. Better results may be achievable using abstract interpretation as it might be possible to determine some non-executable paths and exclude them from the analysis.  To achieve this goal, two of the more advanced techniques of abstract interpretation - variable analysis and path analysis. \n",
    "\n",
    "The SPARK language was developed to achieve accurate and straightforward flow analysis. Many of the restrictions placed on Ada by SPARK to make it amenable to flow analysis may be advantageous for abstract interpretation also.  \n"
   ]
  },
  {
   "cell_type": "code",
   "execution_count": null,
   "id": "01cb3e38-caba-47c2-8f60-d256b9dfb5ef",
   "metadata": {},
   "outputs": [],
   "source": []
  }
 ],
 "metadata": {
  "kernelspec": {
   "display_name": "Python 3 (ipykernel)",
   "language": "python",
   "name": "python3"
  },
  "language_info": {
   "codemirror_mode": {
    "name": "ipython",
    "version": 3
   },
   "file_extension": ".py",
   "mimetype": "text/x-python",
   "name": "python",
   "nbconvert_exporter": "python",
   "pygments_lexer": "ipython3",
   "version": "3.12.7"
  }
 },
 "nbformat": 4,
 "nbformat_minor": 5
}

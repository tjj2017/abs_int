{
 "cells": [
  {
   "cell_type": "raw",
   "id": "bcf5bf8a-e4fd-4a17-a70a-db77c0918209",
   "metadata": {},
   "source": [
    "procedure P (X : in out Integer; Y : in out Integer) is   \n",
    "    Temp: Integer;  \n",
    "begin  \n",
    "    if X > Y + 10 then  \n",
    "        Temp := X;  \n",
    "        X := Y  \n",
    "        Y := X;  \n",
    "    elsif X > Y then  \n",
    "        X := Y + 10;  \n",
    "    else  \n",
    "        X := Y + 23;  \n",
    "    end if;  \n",
    "end P;      \n",
    "        "
   ]
  },
  {
   "cell_type": "code",
   "execution_count": 79,
   "id": "6b44e086-a586-43b1-8bfc-047fb4bffd25",
   "metadata": {},
   "outputs": [],
   "source": [
    "Min_Int = -2**31\n",
    "Max_Int = 2**31-1\n",
    "\n",
    "import ast\n",
    "\n",
    "from enum import Enum\n",
    "class Translate_Actions (Enum):\n",
    "    PROC_DEC      = 1\n",
    "    FUNC_DEC      = 2\n",
    "    FUNC_RESULT   = 3\n",
    "    IN_PARAM      = 4\n",
    "    OUT_PARAM     = 5\n",
    "    IN_OUT_PARAM  = 6\n",
    "    IN_GLOBAL     = 7\n",
    "    IN_OUT_GLOBAL = 8\n",
    "    LOCAL_RW      = 9\n",
    "    LOCAL_RO      = 10\n",
    "    EVAL          = 11\n",
    "    ASSIGN        = 12\n",
    "    DEFINE_CONST  = 13\n",
    "    DEFER_CONST   = 14\n",
    "    IF_COND       = 15\n",
    "    @classmethod\n",
    "    def pos (cls, act):\n",
    "        return act.value - 1\n",
    "        \n",
    "Action = Enum('Action', ['PROC_DEC', 'FUNC_DEC', 'FUNC_RESULT', \n",
    "                         'IN_PARAM', 'OUT_PARAM', 'IN_OUT_PARAM',\n",
    "                         'IN_GLOBAL', 'OUT_GLOBAL', 'IN_OUT_GLOBAL', \n",
    "                         'LOCAL_RW', 'LOCAL_RO',\n",
    "                         'EVAL', 'ASSIGN', 'DEFINE_CONST', 'DEFER_CONST', 'IF_COND'])\n",
    "\n",
    "Mode = Enum('Mode', ['IN_PARAM', 'OUT_PARAM', 'IN_OUT_PARAM', 'IN_GLOBAL', 'IN_OUT_GLOBAL', 'LOCAL_RW', 'LOCAL_RO'])\n",
    "\n",
    "vars        = {}\n",
    "var_count   = 0\n",
    "state_stack = []\n",
    "frame_ptr   = 0\n",
    "frame       = 0\n",
    "\n",
    "branch_stack = []\n",
    "branch_ptr   = 0\n",
    "\n",
    "class Var_State:\n",
    "    def __init__(self, name, mode, well_formed, scalar, lb, ub, invariant):\n",
    "        self.name        = name\n",
    "        self.mode        = mode\n",
    "        self.well_formed = well_formed\n",
    "        self.scalar      = scalar\n",
    "        self.lb          = lb\n",
    "        self.ub          = ub\n",
    "        self.invariant   = invariant\n",
    "        self.evaluated   = False\n",
    "        self.assigned    = False\n",
    "        self.updated     = False\n",
    "        \n",
    "    def print_var_state(self):\n",
    "        print('name =', self.name)\n",
    "        print('mode =', self.mode)\n",
    "        print('well_formed =', self.well_formed)\n",
    "        print('scalar =', self.scalar)\n",
    "        print('lb =', self.lb)\n",
    "        print('ub =', self.ub)\n",
    "        print('invariant =', self.invariant)\n",
    "        print('evaluated =', self.evaluated)\n",
    "        print('assigned =', self.assigned)\n",
    "        print('updated =', self.updated)\n",
    "            \n",
    "def print_state_stack(stack):\n",
    "    for i in range(len(stack)):\n",
    "        stack[i].print_var_state()\n",
    "        print('----------------------')\n",
    "\n",
    "def new_frame():\n",
    "    result = []\n",
    "    for i in range (frame_ptr-frame, frame):\n",
    "        result = result + [state_stack[i]]\n",
    "        result[-1].updated = False\n",
    "    return result\n",
    "\n"
   ]
  },
  {
   "cell_type": "code",
   "execution_count": 80,
   "id": "195e2db6-a283-4b19-9825-712c371bfdbc",
   "metadata": {},
   "outputs": [],
   "source": [
    "print_state_stack(state_stack)"
   ]
  },
  {
   "cell_type": "code",
   "execution_count": 81,
   "id": "4cd62196-710c-4568-997c-b307b4186dd8",
   "metadata": {},
   "outputs": [],
   "source": [
    "# Each statement is a list of actions on variables\n",
    "def process_statement (actions):\n",
    "    global vars, var_count, state_stack, frame_ptr, frame, branch_stack, branch_ptr\n",
    "    for act in actions:\n",
    "        if act[0] == Action.PROC_DEC:\n",
    "            frame_ptr = frame_ptr + frame\n",
    "        elif act[0] == Action.IN_PARAM:\n",
    "            state_stack = state_stack + [Var_State(name=act[1], \n",
    "                                                   mode=Mode.IN_PARAM, \n",
    "                                                   well_formed=(True, []),\n",
    "                                                   scalar=True, \n",
    "                                                   lb=Min_Int, ub=Max_Int,\n",
    "                                                   invariant=True)]\n",
    "            frame = frame + 1\n",
    "            vars[act[1]] = var_count\n",
    "            var_count = var_count + 1\n",
    "        elif act[0] == Action.OUT_PARAM:\n",
    "            state_stack = state_stack + [Var_State(name=act[1], \n",
    "                                                   mode=Mode.OUT_PARAM, \n",
    "                                                   well_formed=(False, []), \n",
    "                                                   scalar=True,\n",
    "                                                   lb=None, ub=None,\n",
    "                                                   invariant=False)]\n",
    "            frame = frame + 1\n",
    "            vars[act[1]] = var_count\n",
    "            var_count = var_count + 1\n",
    "        elif act[0] == Action.IN_OUT_PARAM:\n",
    "            state_stack = state_stack + [Var_State(name=act[1], \n",
    "                                                   mode=Mode.IN_OUT_PARAM, \n",
    "                                                   well_formed=(True, []), \n",
    "                                                   scalar=True, \n",
    "                                                   lb=Min_Int, ub=Max_Int,\n",
    "                                                   invariant=False)]\n",
    "            frame = frame + 1        \n",
    "            vars[act[1]] = var_count\n",
    "            var_count = var_count + 1\n",
    "        elif act[0] == Action.IN_GLOBAL:\n",
    "            state_stack = state_stack + [Var_State(name=act[1], \n",
    "                                                   mode=Mode.IN_GLOBAL, \n",
    "                                                   well_formed=(True, []),\n",
    "                                                   scalar=True, \n",
    "                                                   lb=Min_Int, ub=Max_Int,\n",
    "                                                   invariant=True)]\n",
    "        elif act[0] == Action.OUT_GLOBAL:\n",
    "            state_stack = state_stack + [Var_State(name=act[1], \n",
    "                                                   mode=Mode.OUT_GLOBAL, \n",
    "                                                   well_formed=(False, []), \n",
    "                                                   scalar=True, \n",
    "                                                   lb=None, ub=None,\n",
    "                                                   invariant=False)]\n",
    "            frame = frame + 1\n",
    "            vars[act[1]] = var_count\n",
    "            var_count = var_count + 1\n",
    "        elif act[0] == Action.IN_OUT_GLOBAL:\n",
    "            state_stack = state_stack + [Var_State(name=act[1], \n",
    "                                                   mode=Mode.IN_OUT_GLOBAL, \n",
    "                                                   well_formed=(True, []),\n",
    "                                                   scalar=True, \n",
    "                                                   lb=Min_Int, ub=Max_Int,\n",
    "                                                   invariant=False)]\n",
    "            frame = frame + 1        \n",
    "            vars[act[1]] = var_count\n",
    "            var_count = var_count + 1\n",
    "        elif act[0] == Action.LOCAL_RW:\n",
    "            state_stack = state_stack + [Var_State(name=act[1], \n",
    "                                                   mode=Mode.LOCAL_RW, \n",
    "                                                   well_formed=(False, []), \n",
    "                                                   scalar=True, \n",
    "                                                   lb=None, ub=None,\n",
    "                                                   invariant=False)]\n",
    "            frame = frame + 1\n",
    "            vars[act[1]] = var_count\n",
    "            var_count = var_count + 1\n",
    "        elif act[0] == Action.LOCAL_RO:\n",
    "            state_stack = state_stack + [Var_State(name=act[1], \n",
    "                                                   mode=Mode.LOCAL_RO, \n",
    "                                                   well_formed=(False, []), \n",
    "                                                   scalar=True, \n",
    "                                                   lb=None, ub=None,\n",
    "                                                   invariant=False)]\n",
    "            frame = frame + 1\n",
    "            vars[act[1]] = var_count\n",
    "            var_count = var_count + 1\n",
    "        elif act[0] == Action.EVAL:\n",
    "            state_stack[vars[act[1]]].evaluated=True\n",
    "        elif act[0] == Action.ASSIGN:\n",
    "            state_index = vars[act[1]]\n",
    "            if state_stack[state_index].assigned:\n",
    "                state_stack[state_index].updated = True\n",
    "            else:\n",
    "                state_stack[state_index].assigned = True\n",
    "\n",
    "            if state_stack[state_index].well_formed[0] == False:\n",
    "                state_stack[state_index].well_formed = (True, state_stack[state_index].well_formed[1] + [branch_stack[-1][2]])\n",
    "        elif act[0] == Action.IF_COND:\n",
    "            branch_stack = branch_stack + [(Action.IF_COND, False, ast.parse(act[1]), frame, frame_ptr)]\n",
    "            branch_ptr = branch_ptr + 1\n",
    "            state_stack = state_stack + new_frame()\n",
    "            frame_ptr = frame_ptr + frame\n",
    "            branch_stack = branch_stack + [(Action.IF_COND, True, ast.parse(act[1]), frame, frame_ptr)]\n",
    "            branch_ptr = branch_ptr + 1\n",
    "            # May be able to adjust bounds of variables used in condition.\n",
    "            # for instance, if condition is 'x > y + 10' then x lower bound is lb(y) + 10\n",
    "        else:\n",
    "            print(\"Unsupported\") \n",
    "            \n",
    "        "
   ]
  },
  {
   "cell_type": "code",
   "execution_count": 82,
   "id": "ec1cd4d4-a57e-4c64-b4e7-b971efde53c6",
   "metadata": {},
   "outputs": [
    {
     "name": "stdout",
     "output_type": "stream",
     "text": [
      "name = x\n",
      "mode = Mode.IN_OUT_PARAM\n",
      "well_formed = (True, [])\n",
      "scalar = True\n",
      "lb = -2147483648\n",
      "ub = 2147483647\n",
      "invariant = False\n",
      "evaluated = False\n",
      "assigned = False\n",
      "updated = False\n",
      "----------------------\n",
      "name = y\n",
      "mode = Mode.IN_OUT_PARAM\n",
      "well_formed = (True, [])\n",
      "scalar = True\n",
      "lb = -2147483648\n",
      "ub = 2147483647\n",
      "invariant = False\n",
      "evaluated = False\n",
      "assigned = False\n",
      "updated = False\n",
      "----------------------\n"
     ]
    }
   ],
   "source": [
    "process_statement([(Action.PROC_DEC, 'p'), \n",
    "                   (Action.IN_OUT_PARAM, 'x'),\n",
    "                  (Action.IN_OUT_PARAM, 'y')])\n",
    "print_state_stack(state_stack)"
   ]
  },
  {
   "cell_type": "code",
   "execution_count": 83,
   "id": "d967f9fa-cc7e-466c-902a-26d4d62b13fb",
   "metadata": {},
   "outputs": [
    {
     "data": {
      "text/plain": [
       "{'x': 0, 'y': 1}"
      ]
     },
     "execution_count": 83,
     "metadata": {},
     "output_type": "execute_result"
    }
   ],
   "source": [
    "vars"
   ]
  },
  {
   "cell_type": "code",
   "execution_count": 84,
   "id": "bca7020c-4982-4863-b6e7-ef129fa19fec",
   "metadata": {},
   "outputs": [
    {
     "name": "stdout",
     "output_type": "stream",
     "text": [
      "name = x\n",
      "mode = Mode.IN_OUT_PARAM\n",
      "well_formed = (True, [])\n",
      "scalar = True\n",
      "lb = -2147483648\n",
      "ub = 2147483647\n",
      "invariant = False\n",
      "evaluated = False\n",
      "assigned = False\n",
      "updated = False\n",
      "----------------------\n",
      "name = y\n",
      "mode = Mode.IN_OUT_PARAM\n",
      "well_formed = (True, [])\n",
      "scalar = True\n",
      "lb = -2147483648\n",
      "ub = 2147483647\n",
      "invariant = False\n",
      "evaluated = False\n",
      "assigned = False\n",
      "updated = False\n",
      "----------------------\n",
      "name = temp\n",
      "mode = Mode.LOCAL_RW\n",
      "well_formed = (False, [])\n",
      "scalar = True\n",
      "lb = None\n",
      "ub = None\n",
      "invariant = False\n",
      "evaluated = False\n",
      "assigned = False\n",
      "updated = False\n",
      "----------------------\n"
     ]
    }
   ],
   "source": [
    "process_statement([(Action.LOCAL_RW, 'temp')])\n",
    "print_state_stack(state_stack)               "
   ]
  },
  {
   "cell_type": "code",
   "execution_count": null,
   "id": "de4d0207-ba2c-4dcc-ace0-56f9f922bd99",
   "metadata": {},
   "outputs": [],
   "source": []
  },
  {
   "cell_type": "code",
   "execution_count": 85,
   "id": "5adac38b-95e3-4dc2-a83b-a8dc9614c0e3",
   "metadata": {},
   "outputs": [
    {
     "name": "stdout",
     "output_type": "stream",
     "text": [
      "name = x\n",
      "mode = Mode.IN_OUT_PARAM\n",
      "well_formed = (True, [])\n",
      "scalar = True\n",
      "lb = -2147483648\n",
      "ub = 2147483647\n",
      "invariant = False\n",
      "evaluated = True\n",
      "assigned = False\n",
      "updated = False\n",
      "----------------------\n",
      "name = y\n",
      "mode = Mode.IN_OUT_PARAM\n",
      "well_formed = (True, [])\n",
      "scalar = True\n",
      "lb = -2147483648\n",
      "ub = 2147483647\n",
      "invariant = False\n",
      "evaluated = True\n",
      "assigned = False\n",
      "updated = False\n",
      "----------------------\n",
      "name = temp\n",
      "mode = Mode.LOCAL_RW\n",
      "well_formed = (False, [])\n",
      "scalar = True\n",
      "lb = None\n",
      "ub = None\n",
      "invariant = False\n",
      "evaluated = False\n",
      "assigned = False\n",
      "updated = False\n",
      "----------------------\n",
      "name = x\n",
      "mode = Mode.IN_OUT_PARAM\n",
      "well_formed = (True, [])\n",
      "scalar = True\n",
      "lb = -2147483648\n",
      "ub = 2147483647\n",
      "invariant = False\n",
      "evaluated = True\n",
      "assigned = False\n",
      "updated = False\n",
      "----------------------\n",
      "name = y\n",
      "mode = Mode.IN_OUT_PARAM\n",
      "well_formed = (True, [])\n",
      "scalar = True\n",
      "lb = -2147483648\n",
      "ub = 2147483647\n",
      "invariant = False\n",
      "evaluated = True\n",
      "assigned = False\n",
      "updated = False\n",
      "----------------------\n",
      "name = temp\n",
      "mode = Mode.LOCAL_RW\n",
      "well_formed = (False, [])\n",
      "scalar = True\n",
      "lb = None\n",
      "ub = None\n",
      "invariant = False\n",
      "evaluated = False\n",
      "assigned = False\n",
      "updated = False\n",
      "----------------------\n",
      "name = x\n",
      "mode = Mode.IN_OUT_PARAM\n",
      "well_formed = (True, [])\n",
      "scalar = True\n",
      "lb = -2147483648\n",
      "ub = 2147483647\n",
      "invariant = False\n",
      "evaluated = True\n",
      "assigned = False\n",
      "updated = False\n",
      "----------------------\n",
      "name = y\n",
      "mode = Mode.IN_OUT_PARAM\n",
      "well_formed = (True, [])\n",
      "scalar = True\n",
      "lb = -2147483648\n",
      "ub = 2147483647\n",
      "invariant = False\n",
      "evaluated = True\n",
      "assigned = False\n",
      "updated = False\n",
      "----------------------\n",
      "name = temp\n",
      "mode = Mode.LOCAL_RW\n",
      "well_formed = (False, [])\n",
      "scalar = True\n",
      "lb = None\n",
      "ub = None\n",
      "invariant = False\n",
      "evaluated = False\n",
      "assigned = False\n",
      "updated = False\n",
      "----------------------\n"
     ]
    }
   ],
   "source": [
    "process_statement([(Action.EVAL, 'x'),\n",
    "                  (Action.EVAL, 'y'),\n",
    "                  (Action.IF_COND, 'x > y + 10')])\n",
    "print_state_stack(state_stack)"
   ]
  },
  {
   "cell_type": "code",
   "execution_count": null,
   "id": "0e308f0b-fdf0-41bd-a748-a8c36e7a8d2b",
   "metadata": {},
   "outputs": [],
   "source": []
  },
  {
   "cell_type": "code",
   "execution_count": null,
   "id": "4d8d3b52-8bbc-4a21-9b57-764d25604d5c",
   "metadata": {},
   "outputs": [],
   "source": []
  },
  {
   "cell_type": "code",
   "execution_count": null,
   "id": "b415e7ff-00de-46b0-89ee-7a92814b27de",
   "metadata": {},
   "outputs": [],
   "source": []
  },
  {
   "cell_type": "code",
   "execution_count": null,
   "id": "9213860c-675f-4fb6-b727-8ef1f75e82e4",
   "metadata": {},
   "outputs": [],
   "source": []
  },
  {
   "cell_type": "code",
   "execution_count": null,
   "id": "b37993e7-823b-4469-a0df-d212fe652a1e",
   "metadata": {},
   "outputs": [],
   "source": []
  },
  {
   "cell_type": "code",
   "execution_count": null,
   "id": "f1b4cf44-d272-4b9f-9941-4eb92cb56e5b",
   "metadata": {},
   "outputs": [],
   "source": []
  },
  {
   "cell_type": "code",
   "execution_count": 86,
   "id": "9da79074-5df5-460f-970a-e594efe74698",
   "metadata": {},
   "outputs": [
    {
     "data": {
      "text/plain": [
       "{'x': 0, 'y': 1, 'temp': 2}"
      ]
     },
     "execution_count": 86,
     "metadata": {},
     "output_type": "execute_result"
    }
   ],
   "source": [
    "vars"
   ]
  },
  {
   "cell_type": "code",
   "execution_count": 87,
   "id": "3c283f7d-6a35-416c-a0d4-8fd78c2fa224",
   "metadata": {},
   "outputs": [],
   "source": [
    "process_statement([(Action.EVAL,'x'), (Action.ASSIGN, 'temp')])"
   ]
  },
  {
   "cell_type": "code",
   "execution_count": 88,
   "id": "23dd02dc-d5a6-4038-91e1-7a5278cd78ba",
   "metadata": {},
   "outputs": [
    {
     "name": "stdout",
     "output_type": "stream",
     "text": [
      "name = x\n",
      "mode = Mode.IN_OUT_PARAM\n",
      "well_formed = (True, [])\n",
      "scalar = True\n",
      "lb = -2147483648\n",
      "ub = 2147483647\n",
      "invariant = False\n",
      "evaluated = True\n",
      "assigned = False\n",
      "updated = False\n",
      "----------------------\n",
      "name = y\n",
      "mode = Mode.IN_OUT_PARAM\n",
      "well_formed = (True, [])\n",
      "scalar = True\n",
      "lb = -2147483648\n",
      "ub = 2147483647\n",
      "invariant = False\n",
      "evaluated = True\n",
      "assigned = False\n",
      "updated = False\n",
      "----------------------\n",
      "name = temp\n",
      "mode = Mode.LOCAL_RW\n",
      "well_formed = (True, [<ast.Module object at 0x114439b90>])\n",
      "scalar = True\n",
      "lb = None\n",
      "ub = None\n",
      "invariant = False\n",
      "evaluated = False\n",
      "assigned = True\n",
      "updated = False\n",
      "----------------------\n",
      "name = x\n",
      "mode = Mode.IN_OUT_PARAM\n",
      "well_formed = (True, [])\n",
      "scalar = True\n",
      "lb = -2147483648\n",
      "ub = 2147483647\n",
      "invariant = False\n",
      "evaluated = True\n",
      "assigned = False\n",
      "updated = False\n",
      "----------------------\n",
      "name = y\n",
      "mode = Mode.IN_OUT_PARAM\n",
      "well_formed = (True, [])\n",
      "scalar = True\n",
      "lb = -2147483648\n",
      "ub = 2147483647\n",
      "invariant = False\n",
      "evaluated = True\n",
      "assigned = False\n",
      "updated = False\n",
      "----------------------\n",
      "name = temp\n",
      "mode = Mode.LOCAL_RW\n",
      "well_formed = (True, [<ast.Module object at 0x114439b90>])\n",
      "scalar = True\n",
      "lb = None\n",
      "ub = None\n",
      "invariant = False\n",
      "evaluated = False\n",
      "assigned = True\n",
      "updated = False\n",
      "----------------------\n",
      "name = x\n",
      "mode = Mode.IN_OUT_PARAM\n",
      "well_formed = (True, [])\n",
      "scalar = True\n",
      "lb = -2147483648\n",
      "ub = 2147483647\n",
      "invariant = False\n",
      "evaluated = True\n",
      "assigned = False\n",
      "updated = False\n",
      "----------------------\n",
      "name = y\n",
      "mode = Mode.IN_OUT_PARAM\n",
      "well_formed = (True, [])\n",
      "scalar = True\n",
      "lb = -2147483648\n",
      "ub = 2147483647\n",
      "invariant = False\n",
      "evaluated = True\n",
      "assigned = False\n",
      "updated = False\n",
      "----------------------\n",
      "name = temp\n",
      "mode = Mode.LOCAL_RW\n",
      "well_formed = (True, [<ast.Module object at 0x114439b90>])\n",
      "scalar = True\n",
      "lb = None\n",
      "ub = None\n",
      "invariant = False\n",
      "evaluated = False\n",
      "assigned = True\n",
      "updated = False\n",
      "----------------------\n"
     ]
    }
   ],
   "source": [
    "print_state_stack(state_stack)"
   ]
  },
  {
   "cell_type": "code",
   "execution_count": 89,
   "id": "d8730eed-a9c4-43bc-a75c-6866ef1e64d3",
   "metadata": {},
   "outputs": [
    {
     "data": {
      "text/plain": [
       "[(<Action.IF_COND: 16>, False, <ast.Module at 0x11384e790>, 3, 0),\n",
       " (<Action.IF_COND: 16>, True, <ast.Module at 0x114439b90>, 3, 3)]"
      ]
     },
     "execution_count": 89,
     "metadata": {},
     "output_type": "execute_result"
    }
   ],
   "source": [
    "branch_stack"
   ]
  },
  {
   "cell_type": "code",
   "execution_count": 61,
   "id": "9cf1fcd3-1575-49b4-8640-bf1c097d708c",
   "metadata": {},
   "outputs": [
    {
     "data": {
      "text/plain": [
       "3"
      ]
     },
     "execution_count": 61,
     "metadata": {},
     "output_type": "execute_result"
    }
   ],
   "source": [
    "frame_ptr"
   ]
  },
  {
   "cell_type": "code",
   "execution_count": 21,
   "id": "d26cac34-0039-4927-8ee9-ead5e6ea6f9d",
   "metadata": {},
   "outputs": [],
   "source": [
    "from collections import namedtuple\n",
    "\n",
    "Var_State = namedtuple('Var_State', ['id', 'well_formed', 'evaluated', 'assigned', 'invariant', 'updated',\n",
    "                                     'scalar', 'lb', 'ub'\n",
    "                                    ])\n",
    "\n",
    "Min_Int = -2**31\n",
    "Max_Int = 2**31-1\n",
    "\n",
    "# stack frame\n",
    "frame = 3\n",
    "x = 0\n",
    "y = 1\n",
    "temp = 2\n",
    "\n",
    "frame_ptr = 0\n",
    "\n",
    "block_condition = ['True']\n"
   ]
  },
  {
   "cell_type": "code",
   "execution_count": 8,
   "id": "65885e5a-1432-42a6-ae89-c6f0e18af186",
   "metadata": {},
   "outputs": [
    {
     "data": {
      "text/plain": [
       "[Var_State(id='x', well_formed=True, evaluated=False, assigned=False, invariant=True, updated=False, scalar=True, lb=-2147483648, ub=2147483647),\n",
       " Var_State(id='y', well_formed=True, evaluated=False, assigned=False, invariant=True, updated=False, scalar=True, lb=-2147483648, ub=2147483647),\n",
       " Var_State(id='temp', well_formed=None, evaluated=None, assigned=None, invariant=None, updated=None, scalar=None, lb=None, ub=None)]"
      ]
     },
     "execution_count": 8,
     "metadata": {},
     "output_type": "execute_result"
    }
   ],
   "source": [
    "# Line 1: procedure P (X : in out Integer; Y : in out Integer) is\n",
    "# Translation\n",
    "[(Action.IN_OUT_PARAM, x),\n",
    " (Action.IN_OUT_PARAM, y))]\n",
    "# IN_OUT_PARAM X\n",
    "# IN_OUT_PARAM Y\n",
    "stack = [Var_State('x', well_formed=True,evaluated=False,assigned=False,invariant=True,updated=False,\n",
    "                  scalar=True, lb=Min_Int, ub=Max_Int),\n",
    "         Var_State('y', well_formed=True,evaluated=False,assigned=False,invariant=True,updated=False,\n",
    "                   scalar=True, lb=Min_Int, ub=Max_Int),\n",
    "         Var_State('temp', None, None, None, None, None, None, None, None)]\n",
    "stack"
   ]
  },
  {
   "cell_type": "code",
   "execution_count": 9,
   "id": "c1303dc9-2181-44c8-8aff-8a373f90b7a6",
   "metadata": {},
   "outputs": [
    {
     "data": {
      "text/plain": [
       "[Var_State(id='x', well_formed=True, evaluated=False, assigned=False, invariant=True, updated=False, scalar=True, lb=-2147483648, ub=2147483647),\n",
       " Var_State(id='y', well_formed=True, evaluated=False, assigned=False, invariant=True, updated=False, scalar=True, lb=-2147483648, ub=2147483647),\n",
       " Var_State(id='temp', well_formed=False, evaluated=False, assigned=False, invariant=False, updated=False, scalar=True, lb=None, ub=None)]"
      ]
     },
     "execution_count": 9,
     "metadata": {},
     "output_type": "execute_result"
    }
   ],
   "source": [
    "# Line 2:     Temp: Integer;  \n",
    "# Translation\n",
    "# VAR_DEC Temp\n",
    "stack[temp+frame_ptr] = Var_State('temp',well_formed=False,evaluated=False,assigned=False,invariant=False,\n",
    "                                 updated=False, scalar=True, lb=None, ub=None)\n",
    "stack"
   ]
  },
  {
   "cell_type": "code",
   "execution_count": 10,
   "id": "0672ecf4-b06c-4d7a-a4f5-592aea7c7faf",
   "metadata": {},
   "outputs": [
    {
     "data": {
      "text/plain": [
       "[Var_State(id='x', well_formed=True, evaluated=True, assigned=False, invariant=True, updated=False, scalar=True, lb=-2147483648, ub=2147483647),\n",
       " Var_State(id='y', well_formed=True, evaluated=True, assigned=False, invariant=True, updated=False, scalar=True, lb=-2147483648, ub=2147483647),\n",
       " Var_State(id='temp', well_formed=False, evaluated=False, assigned=False, invariant=False, updated=False, scalar=True, lb=None, ub=None)]"
      ]
     },
     "execution_count": 10,
     "metadata": {},
     "output_type": "execute_result"
    }
   ],
   "source": [
    "# Line 3:     if X > Y + 10 then  \n",
    "# EVAL x\n",
    "stack[x+frame_ptr] = Var_State('x', well_formed=True, evaluated=True, assigned=False, invariant=True,\n",
    "                              updated=False, scalar=True, lb=Min_Int, ub=Max_Int)\n",
    "# EVAL y\n",
    "stack[y+frame_ptr] = Var_State('y', well_formed=True, evaluated=True, assigned=False, invariant=True,\n",
    "                              updated=False, scalar=True, lb=Min_Int, ub=Max_Int)\n",
    "stack\n"
   ]
  },
  {
   "cell_type": "code",
   "execution_count": 11,
   "id": "bfc173e0-1638-47f0-b846-995d333276ec",
   "metadata": {},
   "outputs": [],
   "source": [
    "# Line 3.1:    if X > Y + 10 then  \n",
    "# IF_CONDITION_FALSE\n",
    "block_condition = block_condition + [block_condition[-1] + ' and ' 'not x > y + 10']"
   ]
  },
  {
   "cell_type": "code",
   "execution_count": 12,
   "id": "badcaa53-437c-4ed1-9048-a0028a797091",
   "metadata": {},
   "outputs": [],
   "source": [
    "# Line 3.2:     if X > Y + 10 then  \n",
    "# IF_CONDITION_TRUE\n",
    "block_condition = block_condition + [block_condition[-2] + ' and ' 'x > y + 10']"
   ]
  },
  {
   "cell_type": "code",
   "execution_count": 13,
   "id": "d8b82dd7-8c3e-4e28-b82c-687cd8c22d9b",
   "metadata": {},
   "outputs": [
    {
     "data": {
      "text/plain": [
       "['True', 'True and not x > y + 10', 'True and x > y + 10']"
      ]
     },
     "execution_count": 13,
     "metadata": {},
     "output_type": "execute_result"
    }
   ],
   "source": [
    "block_condition"
   ]
  },
  {
   "cell_type": "code",
   "execution_count": 14,
   "id": "f6e48672-d945-4512-a4e2-51944f2b528b",
   "metadata": {},
   "outputs": [
    {
     "data": {
      "text/plain": [
       "[Var_State(id='x', well_formed=True, evaluated=True, assigned=False, invariant=True, updated=False, scalar=True, lb=-2147483648, ub=2147483647),\n",
       " Var_State(id='y', well_formed=True, evaluated=True, assigned=False, invariant=True, updated=False, scalar=True, lb=-2147483648, ub=2147483647),\n",
       " Var_State(id='temp', well_formed=False, evaluated=False, assigned=False, invariant=False, updated=False, scalar=True, lb=None, ub=None),\n",
       " Var_State(id='x', well_formed=True, evaluated=True, assigned=False, invariant=True, updated=False, scalar=True, lb=-2147483648, ub=2147483647),\n",
       " Var_State(id='y', well_formed=True, evaluated=True, assigned=False, invariant=True, updated=False, scalar=True, lb=-2147483648, ub=2147483647),\n",
       " Var_State(id='temp', well_formed=False, evaluated=False, assigned=False, invariant=False, updated=False, scalar=True, lb=None, ub=None)]"
      ]
     },
     "execution_count": 14,
     "metadata": {},
     "output_type": "execute_result"
    }
   ],
   "source": [
    "# Line 3.3:     if X > Y + 10 then\n",
    "# THEN_BRANCH\n",
    "stack = stack + stack[frame_ptr:]\n",
    "frame_ptr = frame_ptr + frame \n",
    "stack"
   ]
  },
  {
   "cell_type": "code",
   "execution_count": 15,
   "id": "552d44bd-a4ce-4564-8f12-b419dd475116",
   "metadata": {},
   "outputs": [
    {
     "data": {
      "text/plain": [
       "3"
      ]
     },
     "execution_count": 15,
     "metadata": {},
     "output_type": "execute_result"
    }
   ],
   "source": [
    "frame_ptr"
   ]
  },
  {
   "cell_type": "code",
   "execution_count": 18,
   "id": "cbe2c1a6-bc6a-4daa-a9bd-c392aa82ac33",
   "metadata": {},
   "outputs": [
    {
     "data": {
      "text/plain": [
       "[Var_State(id='x', well_formed=True, evaluated=True, assigned=False, invariant=True, updated=False, scalar=True, lb=-2147483648, ub=2147483647),\n",
       " Var_State(id='y', well_formed=True, evaluated=True, assigned=False, invariant=True, updated=False, scalar=True, lb=-2147483648, ub=2147483647),\n",
       " Var_State(id='temp', well_formed=False, evaluated=False, assigned=False, invariant=False, updated=False, scalar=True, lb=None, ub=None),\n",
       " Var_State(id='x', well_formed=True, evaluated=True, assigned=False, invariant=True, updated=False, scalar=True, lb=-2147483648, ub=2147483647),\n",
       " Var_State(id='y', well_formed=True, evaluated=True, assigned=False, invariant=True, updated=False, scalar=True, lb=-2147483648, ub=2147483647),\n",
       " Var_State(id='temp', well_formed=True, evaluated=False, assigned=False, invariant=False, updated=False, scalar=True, lb=-2147483648, ub=2147483647)]"
      ]
     },
     "execution_count": 18,
     "metadata": {},
     "output_type": "execute_result"
    }
   ],
   "source": [
    "# Line 4:         Temp := X;  \n",
    "# Translation\n",
    "# EVAL X\n",
    "# ASSIGN Temp\n",
    "stack [temp+frame_ptr] = Var_State(id='temp', well_formed=True, evaluated=False, assigned=False, \n",
    "                                   invariant=False, updated=False, scalar=True, lb=Min_Int, ub=Max_Int)\n",
    "stack"
   ]
  },
  {
   "cell_type": "code",
   "execution_count": 129,
   "id": "79b07e5c-f38b-4785-aa83-50e14d3df10e",
   "metadata": {},
   "outputs": [
    {
     "data": {
      "text/plain": [
       "[Var_State(id='x', well_formed=True, evaluated=True, assigned=False, invariant=True),\n",
       " Var_State(id='y', well_formed=True, evaluated=True, assigned=False, invariant=True),\n",
       " Var_State(id='temp', well_formed=False, evaluated=False, assigned=False, invariant=False),\n",
       " Var_State(id='x', well_formed=True, evaluated=True, assigned=True, invariant=False),\n",
       " Var_State(id='y', well_formed=True, evaluated=True, assigned=False, invariant=True),\n",
       " Var_State(id='temp', well_formed=True, evaluated=False, assigned=False, invariant=False)]"
      ]
     },
     "execution_count": 129,
     "metadata": {},
     "output_type": "execute_result"
    }
   ],
   "source": [
    "# Line 5:         X := Y  \n",
    "# EVAL Y\n",
    "# ASSIGN X\n",
    "stack[x+frame_ptr] = Var_State(id='x', well_formed=True, evaluated=True, assigned=True, invariant=False)\n",
    "stack"
   ]
  },
  {
   "cell_type": "code",
   "execution_count": null,
   "id": "ad34b561-bd73-4247-98e6-ee0d5e79d11a",
   "metadata": {},
   "outputs": [],
   "source": [
    "# Line 6:        Y := X;  \n",
    "# READ X\n",
    "# ASSIGN Y\n",
    "\n",
    "x4 = (defined, read, unwritten, invariant, ('x_in', 'x_in'), 'x > y + 10')\n",
    "y4 = (defined, read, unwritten, invariant, ('y_in', 'y_in'), 'x > y + 10')\n",
    "temp4 = (defined, unread, written, variant, (x_in, x_in), 'x > y + 1')\n",
    "state3_2 = [x3_2, y3_2, temp3_2]\n",
    "stack3_2 = [state2, state3, state3_1, state3_2]"
   ]
  }
 ],
 "metadata": {
  "kernelspec": {
   "display_name": "Python 3 (ipykernel)",
   "language": "python",
   "name": "python3"
  },
  "language_info": {
   "codemirror_mode": {
    "name": "ipython",
    "version": 3
   },
   "file_extension": ".py",
   "mimetype": "text/x-python",
   "name": "python",
   "nbconvert_exporter": "python",
   "pygments_lexer": "ipython3",
   "version": "3.12.7"
  }
 },
 "nbformat": 4,
 "nbformat_minor": 5
}

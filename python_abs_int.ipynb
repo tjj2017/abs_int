{
 "cells": [
  {
   "cell_type": "raw",
   "id": "bcf5bf8a-e4fd-4a17-a70a-db77c0918209",
   "metadata": {},
   "source": [
    "procedure P (X : in out Integer; Y : in out Integer) is   \n",
    "    Temp: Integer;  \n",
    "begin  \n",
    "    if X > Y + 10 then  \n",
    "        Temp := X;  \n",
    "        X := Y  \n",
    "        Y := Temp;  \n",
    "    elsif X > Y then  \n",
    "        X := Y + 10;  \n",
    "    else  \n",
    "        X := Y + 23;  \n",
    "    end if;  \n",
    "end P;      \n",
    "        "
   ]
  },
  {
   "cell_type": "code",
   "execution_count": 77,
   "id": "6b44e086-a586-43b1-8bfc-047fb4bffd25",
   "metadata": {},
   "outputs": [],
   "source": [
    "Min_Int = -2**31\n",
    "Max_Int = 2**31-1\n",
    "\n",
    "import ast, copy\n",
    "\n",
    "from enum import Enum\n",
    "class Translate_Actions (Enum):\n",
    "    PROC_DEC      = 1\n",
    "    FUNC_DEC      = 2\n",
    "    FUNC_RESULT   = 3\n",
    "    IN_PARAM      = 4\n",
    "    OUT_PARAM     = 5\n",
    "    IN_OUT_PARAM  = 6\n",
    "    IN_GLOBAL     = 7\n",
    "    IN_OUT_GLOBAL = 8\n",
    "    LOCAL_RW      = 9\n",
    "    LOCAL_RO      = 10\n",
    "    EVAL          = 11\n",
    "    ASSIGN        = 12\n",
    "    DEFINE_CONST  = 13\n",
    "    DEFER_CONST   = 14\n",
    "    IF_COND       = 15\n",
    "    ELSE_COND     = 16\n",
    "    ELSE_BRANCH   = 17\n",
    "    END_IF        = 18\n",
    "    ASSIGN_EXPR   = 19\n",
    "    @classmethod\n",
    "    def pos (cls, act):\n",
    "        return act.value - 1\n",
    "        \n",
    "Action = Enum('Action', ['PROC_DEC', 'FUNC_DEC', 'FUNC_RESULT', \n",
    "                         'IN_PARAM', 'OUT_PARAM', 'IN_OUT_PARAM',\n",
    "                         'IN_GLOBAL', 'OUT_GLOBAL', 'IN_OUT_GLOBAL', \n",
    "                         'LOCAL_RW', 'LOCAL_RO',\n",
    "                         'EVAL', 'ASSIGN', 'DEFINE_CONST', 'DEFER_CONST', \n",
    "                         'IF_COND', 'ELSE_COND', 'ELSE_BRANCH', 'END_IF', 'ASSIGN_EXPR'])\n",
    "\n",
    "# An action descriptor is a tuple (line_no, action_no, action, Expressions)\n",
    "LINE_NO    = 0\n",
    "ACT_NO     = 1\n",
    "ACT        = 2\n",
    "VAR_NAME   = 3\n",
    "EXPR       = 4\n",
    "\n",
    "Mode = Enum('Mode', ['IN_PARAM', 'OUT_PARAM', 'IN_OUT_PARAM', 'IN_GLOBAL', 'IN_OUT_GLOBAL', 'LOCAL_RW', 'LOCAL_RO'])\n",
    "\n",
    "vars        = {}\n",
    "var_count   = 0\n",
    "state_stack = [] # [Var_State, ...]\n",
    "frame_ptr   = 0\n",
    "frame       = 0\n",
    "\n",
    "# traversal_condition (True/False, Condition)\n",
    "traversal_condition = []\n",
    "branch_stack = [] # [(action, traversal_condition, (last_frame_ptr, last_frame)), ...]\n",
    "TOP         = -1\n",
    "ACTION      = 0\n",
    "T_COND      = 1\n",
    "FRAME_PARAM = 2\n",
    "PTR         = 0\n",
    "SIZE        = 1\n",
    "\n",
    "\n",
    "class Var_State:\n",
    "    def __init__(self, name, mode, well_formed, scalar, bounds, invariant):\n",
    "        self.name        = name\n",
    "        self.mode        = mode\n",
    "        self.well_formed = well_formed # (lb, ub) lb is true only when var is well-defined\n",
    "                                       # on the current branch. ub is a list of traversal conditions\n",
    "                                       # for the branches where the variable is-well defined\n",
    "        self.scalar      = scalar      \n",
    "        self.bounds      = bounds      # (lb, ub)\n",
    "        self.invariant   = invariant\n",
    "        self.evaluated   = False\n",
    "        self.expr        = None\n",
    "        self.assigned    = False\n",
    "        self.updated     = False\n",
    "\n",
    "    def print_var_state(self):\n",
    "        print('name =', self.name)\n",
    "        print('mode =', self.mode)\n",
    "        print('well_formed =', self.well_formed)\n",
    "        print('scalar =', self.scalar)\n",
    "        print('bounds =', self.bounds)\n",
    "        print('invariant =', self.invariant)\n",
    "        print('evaluated =', self.evaluated)\n",
    "        print('expr =', self.expr)\n",
    "        print('assigned =', self.assigned)\n",
    "        print('updated =', self.updated)\n",
    "            \n",
    "def print_state_stack(stack):\n",
    "    for i in range(len(stack)):\n",
    "        stack[i].print_var_state()\n",
    "        print('----------------------')\n",
    "\n",
    "def new_frame(from_frame):\n",
    "    result = []\n",
    "    for i in range (from_frame[PTR], from_frame[PTR] + from_frame[SIZE]):\n",
    "        result = result + [copy.deepcopy(state_stack[i])]\n",
    "        result[-1].updated = False\n",
    "    return result\n",
    "\n",
    "def merge(frame_1, frame_2):\n",
    "    print(\"merging \", frame_1, \" and \", frame_2)\n",
    "\n"
   ]
  },
  {
   "cell_type": "code",
   "execution_count": 78,
   "id": "c3ccf996-0657-45b6-bb3c-147f651314dc",
   "metadata": {},
   "outputs": [],
   "source": [
    "class Get_Names(ast.NodeVisitor):\n",
    "    def __init__(self):\n",
    "        self.names = []\n",
    "\n",
    "    def visit_Name(self, node):\n",
    "        self.names = self.names + [node.id]\n",
    "        self.generic_visit(node)\n",
    "\n",
    "    def name_set(self):\n",
    "        return set(self.names)\n",
    "\n",
    "get_names=Get_Names()"
   ]
  },
  {
   "cell_type": "code",
   "execution_count": null,
   "id": "b88432cb-df92-4098-a084-8de256e3b4d0",
   "metadata": {},
   "outputs": [],
   "source": [
    "# Translate a procedure body declaration.\n",
    "# At the moment only procedure bodies are considered.\n",
    "# A procedure declaration starts on a new line (possibly preceded by white spaces).\n",
    "# It may have a global specification.\n",
    "# It may declare local variables\n",
    "# The statement is considered to be syntactically correct.\n",
    "def translate_procedure_body (line_num, statement):\n",
    "    # Statement contains ':='\n",
    "    [lhs, rhs] = statement.split(':=')\n",
    "    rhs = rhs.strip()\n",
    "    if '(' not in lhs:\n",
    "        # Non-indexed assignment.\n",
    "        assigned_var = lhs.strip()\n",
    "        index = ''\n",
    "        evaluated_vars = set()\n",
    "    else:\n",
    "        # Indexed assignment.\n",
    "        [v, index] = lhs.split('(')\n",
    "        assigned_var = v.strip()\n",
    "        index = '(' + index\n",
    "        # Currently SPARK assumes an update of an array references the entire array.\n",
    "        evaluated_vars = {assigned_var}\n",
    "\n",
    "    rhs_parsed = ast.parse(rhs, mode='eval')\n",
    "    get_names.visit(rhs_parsed)\n",
    "    evaluated_vars = evaluated_vars | get_names.name_set()\n",
    "\n",
    "    if index != '':\n",
    "        # The index of the assigned variable is evaluated.\n",
    "        get_names.visit(ast.parse(index, mode='eval'))\n",
    "        evaluated_vars = get_names.name_set()\n",
    "\n",
    "    return [(line_num, 1, Action.EVAL, list(evaluated_vars), None),\n",
    "              (line_num, 2, Action.ASSIGN, [assigned_var], (rhs, rhs_parsed))]"
   ]
  },
  {
   "cell_type": "code",
   "execution_count": null,
   "id": "ee3f288e-9348-47cd-b7c8-f069ffb33c61",
   "metadata": {},
   "outputs": [],
   "source": [
    "# Translate an assignment statement\n",
    "# Assumes each line contains at most one statement.\n",
    "# A statement may span more than one line but is identified by\n",
    "# the first line number on which it occurs.\n",
    "# The statement is considered to be syntactically correct.\n",
    "def translate_assign (line_num, statement):\n",
    "    # Statement contains ':='\n",
    "    [lhs, rhs] = statement.split(':=')\n",
    "    rhs = rhs.strip()\n",
    "    if '(' not in lhs:\n",
    "        # Non-indexed assignment.\n",
    "        assigned_var = lhs.strip()\n",
    "        index = ''\n",
    "        evaluated_vars = set()\n",
    "    else:\n",
    "        # Indexed assignment.\n",
    "        [v, index] = lhs.split('(')\n",
    "        assigned_var = v.strip()\n",
    "        index = '(' + index\n",
    "        # Currently SPARK assumes an update of an array references the entire array.\n",
    "        evaluated_vars = {assigned_var}\n",
    "\n",
    "    rhs_parsed = ast.parse(rhs, mode='eval')\n",
    "    get_names.visit(rhs_parsed)\n",
    "    evaluated_vars = evaluated_vars | get_names.name_set()\n",
    "\n",
    "    if index != '':\n",
    "        # The index of the assigned variable is evaluated.\n",
    "        get_names.visit(ast.parse(index, mode='eval'))\n",
    "        evaluated_vars = get_names.name_set()\n",
    "\n",
    "    return [(line_num, 1, Action.EVAL, list(evaluated_vars), None),\n",
    "              (line_num, 2, Action.ASSIGN, [assigned_var], (rhs, rhs_parsed))]\n"
   ]
  },
  {
   "cell_type": "code",
   "execution_count": 83,
   "id": "cfa183d6-f228-4ded-ac5d-1487a3898f9a",
   "metadata": {},
   "outputs": [],
   "source": [
    "# Translate a statement\n",
    "# Assumes each line contains at most one statement.\n",
    "# A statement may span more than one line but is identified by\n",
    "# the first line number on which it occurs.\n",
    "# The statement is considered to be syntactically correct.\n",
    "def translate_assign (line_num, statement):\n",
    "    # Statement contains ':='\n",
    "        # Assignment statement.\n",
    "        [lhs, rhs] = statement.split(':=')\n",
    "        rhs = rhs.strip()\n",
    "        if '(' not in lhs:\n",
    "            # Non-indexed assignment.\n",
    "            assigned_var = lhs.strip()\n",
    "            index = ''\n",
    "            evaluated_vars = set()\n",
    "        else:\n",
    "            # Indexed assignment.\n",
    "            [v, index] = lhs.split('(')\n",
    "            assigned_var = v.strip()\n",
    "            index = '(' + index\n",
    "            # Currently SPARK assumes an update of an array references the entire array.\n",
    "            evaluated_vars = {assigned_var}\n",
    "\n",
    "        rhs_parsed = ast.parse(rhs, mode='eval')\n",
    "        get_names.visit(rhs_parsed)\n",
    "        evaluated_vars = evaluated_vars | get_names.name_set()\n",
    "\n",
    "        if index != '':\n",
    "            # The index of the assigned variable is evaluated.\n",
    "            get_names.visit(ast.parse(index, mode='eval'))\n",
    "            evaluated_vars = get_names.name_set()\n",
    "\n",
    "        return [(line_num, 1, Action.EVAL, list(evaluated_vars), None),\n",
    "                  (line_num, 2, Action.ASSIGN, [assigned_var], (rhs, rhs_parsed))]\n",
    "        "
   ]
  },
  {
   "cell_type": "code",
   "execution_count": 84,
   "id": "32f31d59-552b-4cbf-86d9-2b52b3acb003",
   "metadata": {},
   "outputs": [
    {
     "data": {
      "text/plain": [
       "[(1, 1, <Action.EVAL: 12>, ['x', 'z', 'y'], None),\n",
       " (1,\n",
       "  2,\n",
       "  <Action.ASSIGN: 13>,\n",
       "  ['w'],\n",
       "  ('x + y - 10', <ast.Expression at 0x10a190250>))]"
      ]
     },
     "execution_count": 84,
     "metadata": {},
     "output_type": "execute_result"
    }
   ],
   "source": [
    "translate_assign(1, 'w(z) := x + y - 10')"
   ]
  },
  {
   "cell_type": "code",
   "execution_count": 56,
   "id": "783cdc00-c6c5-4751-b29c-c229ff2fddb9",
   "metadata": {},
   "outputs": [],
   "source": [
    "s"
   ]
  },
  {
   "cell_type": "code",
   "execution_count": 103,
   "id": "3d944aec-dae1-4920-b5d0-43addf6af363",
   "metadata": {},
   "outputs": [],
   "source": [
    "# Merging rules:\n",
    "    #              Var-A-lb  Var-A-ub  Var-B-lb  Var-B-ub   Merged\n",
    "    # well_formed   False    []        False     []         (False, [])\n",
    "    #               False    NE_List   False     []         (False, NE_List)\n",
    "    #               True     []        False     List       (True, [])\n",
    "    #               True     NE_List   False     []         (False, NE_List)\n",
    "    #               False    NE_List-A False     NE_List-B  (False, NE_List-A + NE_List-B)\n",
    "    #               True     []        True      []         (True, [])\n",
    "    #               True     NE_List-A True      NE_List-B  (True, NE_List-A + NE_List-B)\n",
    "        \n",
    "def merge_well_formed(value_a, value_b):\n",
    "    if value_a == value_b:\n",
    "        # No change if the values are the same.\n",
    "        result = value_a\n",
    "    elif value_a == (True, []) or value_b == (True, []):\n",
    "        # The variable has been assigned a value at the outermost level of the subprogram.\n",
    "        # It will be well-formed from this point on.\n",
    "        result = (True, [])\n",
    "    else:\n",
    "        (lb_a, ub_a) = value_a\n",
    "        (lb_b, ub_b) = value_b\n",
    "        if ub_a == ub_b:\n",
    "            merged_traversal = ub_a\n",
    "        else:\n",
    "            merged_traversal = ub_a + ub_b\n",
    "        result = (lb_a and lb_b, merged_traversal)\n",
    "    return result\n",
    "        "
   ]
  },
  {
   "cell_type": "code",
   "execution_count": 104,
   "id": "d580d3ab-cf6f-41c2-b82b-8cc29c1a4255",
   "metadata": {},
   "outputs": [
    {
     "data": {
      "text/plain": [
       "(False, [123, 456])"
      ]
     },
     "execution_count": 104,
     "metadata": {},
     "output_type": "execute_result"
    }
   ],
   "source": [
    "merge_well_formed((False, [123]), (True, [456]))"
   ]
  },
  {
   "cell_type": "code",
   "execution_count": 105,
   "id": "195e2db6-a283-4b19-9825-712c371bfdbc",
   "metadata": {},
   "outputs": [],
   "source": [
    "print_state_stack(state_stack)"
   ]
  },
  {
   "cell_type": "code",
   "execution_count": 106,
   "id": "4cd62196-710c-4568-997c-b307b4186dd8",
   "metadata": {},
   "outputs": [],
   "source": [
    "# Each statement is a list of actions on variables\n",
    "def process_statement (actions):\n",
    "    global vars, var_count, state_stack, frame_ptr, frame, branch_stack, branch_ptr, traversal_condition\n",
    "    for act in actions:\n",
    "        if act[ACT] == Action.PROC_DEC:\n",
    "            frame_ptr = frame_ptr + frame\n",
    "        elif act[ACT] == Action.IN_PARAM:\n",
    "            state_stack = state_stack + [Var_State(name=act[VAR_NAME], \n",
    "                                                   mode=Mode.IN_PARAM, \n",
    "                                                   well_formed=(True, []),\n",
    "                                                   scalar=True, \n",
    "                                                   bounds=(Min_Int, Max_Int),\n",
    "                                                   invariant=True)]\n",
    "            frame = frame + 1\n",
    "            vars[act[VAR_NAME]] = var_count\n",
    "            var_count = var_count + 1\n",
    "        elif act[ACT] == Action.OUT_PARAM:\n",
    "            state_stack = state_stack + [Var_State(name=act[VAR_NAME], \n",
    "                                                   mode=Mode.OUT_PARAM, \n",
    "                                                   well_formed=(False, []), \n",
    "                                                   scalar=True,\n",
    "                                                   bounds=(None, None),\n",
    "                                                   invariant=False)]\n",
    "            frame = frame + 1\n",
    "            vars[act[VAR_NAME]] = var_count\n",
    "            var_count = var_count + 1\n",
    "        elif act[ACT] == Action.IN_OUT_PARAM:\n",
    "            state_stack = state_stack + [Var_State(name=act[VAR_NAME], \n",
    "                                                   mode=Mode.IN_OUT_PARAM, \n",
    "                                                   well_formed=(True, []), \n",
    "                                                   scalar=True, \n",
    "                                                   bounds=(Min_Int, Max_Int),\n",
    "                                                   invariant=False)]\n",
    "            frame = frame + 1        \n",
    "            vars[act[VAR_NAME]] = var_count\n",
    "            var_count = var_count + 1\n",
    "        elif act[ACT] == Action.IN_GLOBAL:\n",
    "            state_stack = state_stack + [Var_State(name=act[VAR_NAME], \n",
    "                                                   mode=Mode.IN_GLOBAL, \n",
    "                                                   well_formed=(True, []),\n",
    "                                                   scalar=True, \n",
    "                                                   bounds=(Min_Int, Max_Int),\n",
    "                                                   invariant=True)]\n",
    "        elif act[ACT] == Action.OUT_GLOBAL:\n",
    "            state_stack = state_stack + [Var_State(name=act[VAR_NAME], \n",
    "                                                   mode=Mode.OUT_GLOBAL, \n",
    "                                                   well_formed=(False, []), \n",
    "                                                   scalar=True, \n",
    "                                                   bounds=(None, None),\n",
    "                                                   invariant=False)]\n",
    "            frame = frame + 1\n",
    "            vars[act[VAR_NAME]] = var_count\n",
    "            var_count = var_count + 1\n",
    "        elif act[ACT] == Action.IN_OUT_GLOBAL:\n",
    "            state_stack = state_stack + [Var_State(name=act[VAR_NAME], \n",
    "                                                   mode=Mode.IN_OUT_GLOBAL, \n",
    "                                                   well_formed=(True, []),\n",
    "                                                   scalar=True, \n",
    "                                                   bounds=(Min_Int, Max_Int),\n",
    "                                                   invariant=False)]\n",
    "            frame = frame + 1        \n",
    "            vars[act[VAR_NAME]] = var_count\n",
    "            var_count = var_count + 1\n",
    "        elif act[ACT] == Action.LOCAL_RW:\n",
    "            state_stack = state_stack + [Var_State(name=act[VAR_NAME], \n",
    "                                                   mode=Mode.LOCAL_RW, \n",
    "                                                   well_formed=(False, []), \n",
    "                                                   scalar=True, \n",
    "                                                   bounds=(None, None),\n",
    "                                                   invariant=False)]\n",
    "            frame = frame + 1\n",
    "            vars[act[VAR_NAME]] = var_count\n",
    "            var_count = var_count + 1\n",
    "        elif act[ACT] == Action.LOCAL_RO:\n",
    "            state_stack = state_stack + [Var_State(name=act[VAR_NAME], \n",
    "                                                   mode=Mode.LOCAL_RO, \n",
    "                                                   well_formed=(False, []), \n",
    "                                                   scalar=True, \n",
    "                                                   bounds=(None, None),\n",
    "                                                   invariant=False)]\n",
    "            frame = frame + 1\n",
    "            vars[act[VAR_NAME]] = var_count\n",
    "            var_count = var_count + 1\n",
    "        elif act[ACT] == Action.EVAL:\n",
    "            state_stack[vars[act[VAR_NAME]] + frame_ptr].evaluated=True\n",
    "        elif act[ACT] == Action.ASSIGN_EXPR:\n",
    "            state_stack[vars[act[VAR_NAME]] + frame_ptr].expr=ast.parse(act[EXPR], mode='eval')\n",
    "        elif act[ACT] == Action.ASSIGN:\n",
    "            state_index = vars[act[VAR_NAME]] + frame_ptr\n",
    "            if state_stack[state_index].assigned:\n",
    "                state_stack[state_index].updated = True\n",
    "            else:\n",
    "                state_stack[state_index].assigned = True\n",
    "\n",
    "            state_stack[state_index].well_formed = merge_well_formed(\n",
    "                state_stack[state_index].well_formed,\n",
    "                # The variable is well-formed on this branch following the assignment.\n",
    "                # Copy add the branch traversal condition.\n",
    "                (True, copy.deepcopy(traversal_condition)))\n",
    "        elif act[ACT] == Action.IF_COND:\n",
    "            # The start of a compound statement.\n",
    "            # Save the current traversal condition and state_stack parameters onto the branch_stack.\n",
    "            branch_stack = branch_stack + [(Action.IF_COND, \n",
    "                                            copy.deepcopy(traversal_condition), (frame_ptr, frame))]\n",
    "            # Start a new stack frame for the branch. It is the same as the frame prior to the IF_COND\n",
    "            state_stack = state_stack + new_frame((frame_ptr, frame))\n",
    "            frame_ptr = frame_ptr + frame\n",
    "            # Add the condition of the IF_COND to the traversal condition\n",
    "            # The current traversal condition is extended to include the IF_COND\n",
    "            if traversal_condition == []:\n",
    "                traversal_condition =  [(True, ast.parse(act[EXPR], mode='eval'))]\n",
    "            else:\n",
    "                traversal_condition = traversal_condition + [(True, \n",
    "                                                              ast.parse(act[EXPR], mode='eval'))]\n",
    "\n",
    "            # May be able to adjust bounds of variables used in condition.\n",
    "            # for instance, if condition is 'x > y + 10' then x lower bound is lb(y) + 10\n",
    "        elif act[ACT] == Action.ELSE_COND:\n",
    "            # Check whether the previous branch was the IF branch of the IF statement.\n",
    "            if branch_stack[TOP][ACTION] == Action.IF_COND:\n",
    "                # Then save the traversal condition and state_stack frame parameters on the branch_stack\n",
    "                branch_stack = branch_stack + [(Action.ELSE_COND,\n",
    "                                                traversal_condition, (frame_ptr, frame))]\n",
    "            else:\n",
    "                # It is not an IF branch, merge the last two branches.\n",
    "                # The resulting merged state is in the lower of the two state_stack frames.\n",
    "                merge((branch_stack[TOP-1][FRAME_PARAM]), (branch_stack[TOP][FRAME_PARAM]))\n",
    "                # Pop off the top state_stack frame.\n",
    "                frame_ptr = frame_ptr - frame                \n",
    "                state_stack = state_stack[:frame_ptr+frame]\n",
    "\n",
    "            # Start a new state_stack frame from the IF_COND frame.\n",
    "            # The IF_COND frame parameters are always available from the penultimate branch_stack\n",
    "            # entry as all ELSE_COND branches are merged and have the same branch_stack entry\n",
    "            state_stack = state_stack + new_frame(branch_stack[TOP-1][FRAME_PARAM])\n",
    "            frame_ptr = frame_ptr + frame\n",
    "            \n",
    "            # The traversal for this branch is the same as the previous IF_COND or ELSE_COND branch\n",
    "            # but with the IF_COND or ELSE_COND negated and traversal condition extend \n",
    "            # with the condition of this ELSE_COND.\n",
    "\n",
    "            # Set the last condition in the traversal condition FALSE\n",
    "            traversal_condition [-1] = (False, traversal_condition[-1][1])\n",
    "            # Now extend the traversal condition with the ELSE_COND.\n",
    "            traversal_condition = traversal_condition + [(True, \n",
    "                                                          ast.parse(act[EXPR], mode='eval'))]\n",
    "        elif act[ACT] == Action.ELSE_BRANCH:\n",
    "            # Check whether the previous branch was the IF branch of the IF statement.\n",
    "            if branch_stack[TOP][ACTION] != Action.IF_COND:\n",
    "                # It is not an IF branch, merge the last two branches\n",
    "                # The resulting merged state is in the lower of the two state_stack frames.\n",
    "                merge((branch_stack[TOP-1][FRAME_PARAM]), (branch_stack[TOP][FRAME_PARAM]))\n",
    "                # Pop off the top state_stack frame.\n",
    "                frame_ptr = frame_ptr - frame\n",
    "                state_stack = state_stack[:frame_ptr+frame]\n",
    "                # Pop off the ELSE_COND from the branch_stack\n",
    "                branch_stack = branch_stack[:len(branch_stack)-1]\n",
    "            \n",
    "            # Save the traversal condition and current stack frame parameters on the branch_stack\n",
    "            # and start a new stack frame for the ELSE branch.\n",
    "            branch_stack = branch_stack + [(Action.ELSE_BRANCH,\n",
    "                                            traversal_condition, (frame_ptr, frame))]\n",
    "            state_stack = state_stack + new_frame((frame_ptr, frame))\n",
    "            frame_ptr = frame_ptr + frame\n",
    "            # Set the last condition in the traversal condition FALSE\n",
    "            traversal_condition [-1] = (False, traversal_condition[-1][1])\n",
    "            # The traversal_condition is not extended for an ELSE branch\n",
    "        elif act[ACT] == Action.END_IF:\n",
    "            # Check whether there is not an ELSE branch\n",
    "            if branch_stack[TOP][ACTION] != Action.ELSE_BRANCH:\n",
    "                # There is no ELSE branch. the merged branches of the IF statement\n",
    "                # have to be merged with the state preceding the IF_COND\n",
    "                \n",
    "                # Check whether the previous branch is not an IF branch of the IF statement.\n",
    "                if branch_stack[TOP][ACTION] != Action.IF_COND:\n",
    "                    # It is not an IF branch, merge the last two branches\n",
    "                    # The resulting merged state is in the lower of the two state_stack frames.\n",
    "                    # That is the IF_COND state frame\n",
    "                    merge((branch_stack[TOP-1][FRAME_PARAM]), (branch_stack[TOP][FRAME_PARAM]))\n",
    "                    # Pop off the top state_stack frame.\n",
    "                    frame_ptr = frame_ptr - frame\n",
    "                    state_stack = state_stack[:frame_ptr+frame]\n",
    "                    # Pop off the ELSE_COND from the branch_stack\n",
    "                    branch_stack = branch_stack[:len(branch_stack)-1]\n",
    "                    \n",
    "                # Now merge the IF_COND state frame with the frame preceding the IF_COND  \n",
    "                # The resulting merged state is in the state frame preceding the IF_COND.\n",
    "                merge((branch_stack[TOP-1][FRAME_PARAM]), (branch_stack[TOP][FRAME_PARAM]))\n",
    "                # Pop off the top state_stack frame.\n",
    "                frame_ptr = frame_ptr - frame\n",
    "                state_stack = state_stack[:frame_ptr+frame] \n",
    "                # Pop off the IF_COND from the branch_stack\n",
    "                branch_stack = branch_stack[:len(branch_stack)-1]\n",
    "            else:\n",
    "                # There is an ELSE branch.  The merged branches of the IF-THEN-ELSE statement\n",
    "                # is the state that is carried forward in the analysis.\n",
    "                # The state prior to the IF_COND has been accounted for in each branch\n",
    "                # of the IF_THEN_ELSE and is no longer required.\n",
    "\n",
    "                # Merge the state ELSE_BRANCH and the previous accumulated states in the IF_COND branch.\n",
    "                # The result of the merge is in the state of the IF_COND branch.\n",
    "                merge((branch_stack[TOP-1][FRAME_PARAM]), (branch_stack[TOP][FRAME_PARAM]))\n",
    "                # Pop off the top state_stack frame.\n",
    "                frame_ptr = frame_ptr - frame\n",
    "                state_stack = state_stack[:frame_ptr+frame]\n",
    "                # Pop off the ELSE_BRANCH from the branch_stack\n",
    "                branch_stack = branch_stack[:len(branch_stack)-1]\n",
    "\n",
    "                # Replace the state prior to the IF_COND with the state from the IF_COND branch and\n",
    "                # pop off IF_COND branch state\n",
    "                (pre_ptr, pre_frame) = branch_stack[TOP][FRAME_PARAM]\n",
    "                state_stack = state_stack[:pre_ptr] + state_stack[frame_ptr:frame_ptr+frame]\n",
    "                frame_ptr = pre_ptr  # The IF statement may have introduced new variables,\n",
    "                                     # although no longer in scope, they have been added to\n",
    "                                     # the abstract state and therefore the frame count is unchanged.\n",
    "\n",
    "                # Pop off IF_COND from the branch_stack.\n",
    "                branch_stack = branch_stack[:len(branch_stack)-1]\n",
    "        else:\n",
    "            print(\"Unsupported \", act[ACT]) \n",
    "                    "
   ]
  },
  {
   "cell_type": "code",
   "execution_count": 107,
   "id": "ec1cd4d4-a57e-4c64-b4e7-b971efde53c6",
   "metadata": {},
   "outputs": [
    {
     "name": "stdout",
     "output_type": "stream",
     "text": [
      "name = x\n",
      "mode = Mode.IN_OUT_PARAM\n",
      "well_formed = (True, [])\n",
      "scalar = True\n",
      "bounds = (-2147483648, 2147483647)\n",
      "invariant = False\n",
      "evaluated = False\n",
      "expr = None\n",
      "assigned = False\n",
      "updated = False\n",
      "----------------------\n",
      "name = y\n",
      "mode = Mode.IN_OUT_PARAM\n",
      "well_formed = (True, [])\n",
      "scalar = True\n",
      "bounds = (-2147483648, 2147483647)\n",
      "invariant = False\n",
      "evaluated = False\n",
      "expr = None\n",
      "assigned = False\n",
      "updated = False\n",
      "----------------------\n"
     ]
    }
   ],
   "source": [
    "process_statement([(1, 1, Action.PROC_DEC, 'p', None), \n",
    "                   (1, 2, Action.IN_OUT_PARAM, 'x', None),\n",
    "                   (1, 3, Action.IN_OUT_PARAM, 'y', None)])\n",
    "print_state_stack(state_stack)"
   ]
  },
  {
   "cell_type": "code",
   "execution_count": 108,
   "id": "d967f9fa-cc7e-466c-902a-26d4d62b13fb",
   "metadata": {},
   "outputs": [
    {
     "data": {
      "text/plain": [
       "{'x': 0, 'y': 1}"
      ]
     },
     "execution_count": 108,
     "metadata": {},
     "output_type": "execute_result"
    }
   ],
   "source": [
    "vars"
   ]
  },
  {
   "cell_type": "code",
   "execution_count": 109,
   "id": "bca7020c-4982-4863-b6e7-ef129fa19fec",
   "metadata": {},
   "outputs": [
    {
     "name": "stdout",
     "output_type": "stream",
     "text": [
      "name = x\n",
      "mode = Mode.IN_OUT_PARAM\n",
      "well_formed = (True, [])\n",
      "scalar = True\n",
      "bounds = (-2147483648, 2147483647)\n",
      "invariant = False\n",
      "evaluated = False\n",
      "expr = None\n",
      "assigned = False\n",
      "updated = False\n",
      "----------------------\n",
      "name = y\n",
      "mode = Mode.IN_OUT_PARAM\n",
      "well_formed = (True, [])\n",
      "scalar = True\n",
      "bounds = (-2147483648, 2147483647)\n",
      "invariant = False\n",
      "evaluated = False\n",
      "expr = None\n",
      "assigned = False\n",
      "updated = False\n",
      "----------------------\n",
      "name = temp\n",
      "mode = Mode.LOCAL_RW\n",
      "well_formed = (False, [])\n",
      "scalar = True\n",
      "bounds = (None, None)\n",
      "invariant = False\n",
      "evaluated = False\n",
      "expr = None\n",
      "assigned = False\n",
      "updated = False\n",
      "----------------------\n"
     ]
    }
   ],
   "source": [
    "process_statement([(2, 1, Action.LOCAL_RW, 'temp', None)])\n",
    "print_state_stack(state_stack)               "
   ]
  },
  {
   "cell_type": "code",
   "execution_count": null,
   "id": "de4d0207-ba2c-4dcc-ace0-56f9f922bd99",
   "metadata": {},
   "outputs": [],
   "source": []
  },
  {
   "cell_type": "code",
   "execution_count": 110,
   "id": "5adac38b-95e3-4dc2-a83b-a8dc9614c0e3",
   "metadata": {},
   "outputs": [
    {
     "name": "stdout",
     "output_type": "stream",
     "text": [
      "name = x\n",
      "mode = Mode.IN_OUT_PARAM\n",
      "well_formed = (True, [])\n",
      "scalar = True\n",
      "bounds = (-2147483648, 2147483647)\n",
      "invariant = False\n",
      "evaluated = True\n",
      "expr = None\n",
      "assigned = False\n",
      "updated = False\n",
      "----------------------\n",
      "name = y\n",
      "mode = Mode.IN_OUT_PARAM\n",
      "well_formed = (True, [])\n",
      "scalar = True\n",
      "bounds = (-2147483648, 2147483647)\n",
      "invariant = False\n",
      "evaluated = True\n",
      "expr = None\n",
      "assigned = False\n",
      "updated = False\n",
      "----------------------\n",
      "name = temp\n",
      "mode = Mode.LOCAL_RW\n",
      "well_formed = (False, [])\n",
      "scalar = True\n",
      "bounds = (None, None)\n",
      "invariant = False\n",
      "evaluated = False\n",
      "expr = None\n",
      "assigned = False\n",
      "updated = False\n",
      "----------------------\n",
      "name = x\n",
      "mode = Mode.IN_OUT_PARAM\n",
      "well_formed = (True, [])\n",
      "scalar = True\n",
      "bounds = (-2147483648, 2147483647)\n",
      "invariant = False\n",
      "evaluated = True\n",
      "expr = None\n",
      "assigned = False\n",
      "updated = False\n",
      "----------------------\n",
      "name = y\n",
      "mode = Mode.IN_OUT_PARAM\n",
      "well_formed = (True, [])\n",
      "scalar = True\n",
      "bounds = (-2147483648, 2147483647)\n",
      "invariant = False\n",
      "evaluated = True\n",
      "expr = None\n",
      "assigned = False\n",
      "updated = False\n",
      "----------------------\n",
      "name = temp\n",
      "mode = Mode.LOCAL_RW\n",
      "well_formed = (False, [])\n",
      "scalar = True\n",
      "bounds = (None, None)\n",
      "invariant = False\n",
      "evaluated = False\n",
      "expr = None\n",
      "assigned = False\n",
      "updated = False\n",
      "----------------------\n"
     ]
    }
   ],
   "source": [
    "process_statement([(3, 1, Action.EVAL, 'x', None),\n",
    "                  (3, 2, Action.EVAL, 'y', None),\n",
    "                  (3, 3, Action.IF_COND, None, 'x > y + 10')])\n",
    "print_state_stack(state_stack)"
   ]
  },
  {
   "cell_type": "code",
   "execution_count": 111,
   "id": "0e308f0b-fdf0-41bd-a748-a8c36e7a8d2b",
   "metadata": {},
   "outputs": [
    {
     "data": {
      "text/plain": [
       "[(<Action.IF_COND: 16>, [], (0, 3))]"
      ]
     },
     "execution_count": 111,
     "metadata": {},
     "output_type": "execute_result"
    }
   ],
   "source": [
    "branch_stack"
   ]
  },
  {
   "cell_type": "code",
   "execution_count": 112,
   "id": "0aca3f3d-9851-45a2-8c03-d68d5c686b19",
   "metadata": {},
   "outputs": [
    {
     "data": {
      "text/plain": [
       "[(True, <ast.Expression at 0x10ac5e510>)]"
      ]
     },
     "execution_count": 112,
     "metadata": {},
     "output_type": "execute_result"
    }
   ],
   "source": [
    "traversal_condition"
   ]
  },
  {
   "cell_type": "code",
   "execution_count": 113,
   "id": "9da79074-5df5-460f-970a-e594efe74698",
   "metadata": {},
   "outputs": [
    {
     "data": {
      "text/plain": [
       "{'x': 0, 'y': 1, 'temp': 2}"
      ]
     },
     "execution_count": 113,
     "metadata": {},
     "output_type": "execute_result"
    }
   ],
   "source": [
    "vars"
   ]
  },
  {
   "cell_type": "code",
   "execution_count": 114,
   "id": "3c283f7d-6a35-416c-a0d4-8fd78c2fa224",
   "metadata": {},
   "outputs": [],
   "source": [
    "process_statement([(4, 1, Action.EVAL,'x', None), \n",
    "                   (4, 2, Action.ASSIGN_EXPR, 'temp', 'x'),\n",
    "                   (4, 3, Action.ASSIGN, 'temp', None)])"
   ]
  },
  {
   "cell_type": "code",
   "execution_count": 115,
   "id": "23dd02dc-d5a6-4038-91e1-7a5278cd78ba",
   "metadata": {},
   "outputs": [
    {
     "name": "stdout",
     "output_type": "stream",
     "text": [
      "name = x\n",
      "mode = Mode.IN_OUT_PARAM\n",
      "well_formed = (True, [])\n",
      "scalar = True\n",
      "bounds = (-2147483648, 2147483647)\n",
      "invariant = False\n",
      "evaluated = True\n",
      "expr = None\n",
      "assigned = False\n",
      "updated = False\n",
      "----------------------\n",
      "name = y\n",
      "mode = Mode.IN_OUT_PARAM\n",
      "well_formed = (True, [])\n",
      "scalar = True\n",
      "bounds = (-2147483648, 2147483647)\n",
      "invariant = False\n",
      "evaluated = True\n",
      "expr = None\n",
      "assigned = False\n",
      "updated = False\n",
      "----------------------\n",
      "name = temp\n",
      "mode = Mode.LOCAL_RW\n",
      "well_formed = (False, [])\n",
      "scalar = True\n",
      "bounds = (None, None)\n",
      "invariant = False\n",
      "evaluated = False\n",
      "expr = None\n",
      "assigned = False\n",
      "updated = False\n",
      "----------------------\n",
      "name = x\n",
      "mode = Mode.IN_OUT_PARAM\n",
      "well_formed = (True, [])\n",
      "scalar = True\n",
      "bounds = (-2147483648, 2147483647)\n",
      "invariant = False\n",
      "evaluated = True\n",
      "expr = None\n",
      "assigned = False\n",
      "updated = False\n",
      "----------------------\n",
      "name = y\n",
      "mode = Mode.IN_OUT_PARAM\n",
      "well_formed = (True, [])\n",
      "scalar = True\n",
      "bounds = (-2147483648, 2147483647)\n",
      "invariant = False\n",
      "evaluated = True\n",
      "expr = None\n",
      "assigned = False\n",
      "updated = False\n",
      "----------------------\n",
      "name = temp\n",
      "mode = Mode.LOCAL_RW\n",
      "well_formed = (False, [(True, <ast.Expression object at 0x10b75a2d0>)])\n",
      "scalar = True\n",
      "bounds = (None, None)\n",
      "invariant = False\n",
      "evaluated = False\n",
      "expr = <ast.Expression object at 0x10b665d10>\n",
      "assigned = True\n",
      "updated = False\n",
      "----------------------\n"
     ]
    }
   ],
   "source": [
    "print_state_stack(state_stack)"
   ]
  },
  {
   "cell_type": "code",
   "execution_count": 116,
   "id": "ca4539b1-e547-4477-88f9-8320f962e07e",
   "metadata": {},
   "outputs": [],
   "source": [
    "process_statement([(5, 1, Action.EVAL, 'y', None),\n",
    "                   (5, 2, Action.ASSIGN_EXPR, 'x', 'y'),\n",
    "                   (5, 3, Action.ASSIGN, 'x', None)])"
   ]
  },
  {
   "cell_type": "code",
   "execution_count": 117,
   "id": "3691e4c3-bb00-4191-ab70-f198a84928c6",
   "metadata": {},
   "outputs": [
    {
     "name": "stdout",
     "output_type": "stream",
     "text": [
      "name = x\n",
      "mode = Mode.IN_OUT_PARAM\n",
      "well_formed = (True, [])\n",
      "scalar = True\n",
      "bounds = (-2147483648, 2147483647)\n",
      "invariant = False\n",
      "evaluated = True\n",
      "expr = None\n",
      "assigned = False\n",
      "updated = False\n",
      "----------------------\n",
      "name = y\n",
      "mode = Mode.IN_OUT_PARAM\n",
      "well_formed = (True, [])\n",
      "scalar = True\n",
      "bounds = (-2147483648, 2147483647)\n",
      "invariant = False\n",
      "evaluated = True\n",
      "expr = None\n",
      "assigned = False\n",
      "updated = False\n",
      "----------------------\n",
      "name = temp\n",
      "mode = Mode.LOCAL_RW\n",
      "well_formed = (False, [])\n",
      "scalar = True\n",
      "bounds = (None, None)\n",
      "invariant = False\n",
      "evaluated = False\n",
      "expr = None\n",
      "assigned = False\n",
      "updated = False\n",
      "----------------------\n",
      "name = x\n",
      "mode = Mode.IN_OUT_PARAM\n",
      "well_formed = (True, [])\n",
      "scalar = True\n",
      "bounds = (-2147483648, 2147483647)\n",
      "invariant = False\n",
      "evaluated = True\n",
      "expr = <ast.Expression object at 0x10acedd10>\n",
      "assigned = True\n",
      "updated = False\n",
      "----------------------\n",
      "name = y\n",
      "mode = Mode.IN_OUT_PARAM\n",
      "well_formed = (True, [])\n",
      "scalar = True\n",
      "bounds = (-2147483648, 2147483647)\n",
      "invariant = False\n",
      "evaluated = True\n",
      "expr = None\n",
      "assigned = False\n",
      "updated = False\n",
      "----------------------\n",
      "name = temp\n",
      "mode = Mode.LOCAL_RW\n",
      "well_formed = (False, [(True, <ast.Expression object at 0x10b75a2d0>)])\n",
      "scalar = True\n",
      "bounds = (None, None)\n",
      "invariant = False\n",
      "evaluated = False\n",
      "expr = <ast.Expression object at 0x10b665d10>\n",
      "assigned = True\n",
      "updated = False\n",
      "----------------------\n"
     ]
    }
   ],
   "source": [
    "print_state_stack(state_stack)"
   ]
  },
  {
   "cell_type": "code",
   "execution_count": 118,
   "id": "1fe20681-f9ec-4cbf-969b-bf47a05435ba",
   "metadata": {},
   "outputs": [],
   "source": [
    "process_statement([(6, 1, Action.EVAL,'temp', None),\n",
    "                   (6, 2, Action.ASSIGN_EXPR, 'y', 'temp'),\n",
    "                   (6, 3, Action.ASSIGN, 'y', None)])"
   ]
  },
  {
   "cell_type": "code",
   "execution_count": 119,
   "id": "3c54798e-551b-4af0-97d7-173a952a7b55",
   "metadata": {},
   "outputs": [
    {
     "name": "stdout",
     "output_type": "stream",
     "text": [
      "name = x\n",
      "mode = Mode.IN_OUT_PARAM\n",
      "well_formed = (True, [])\n",
      "scalar = True\n",
      "bounds = (-2147483648, 2147483647)\n",
      "invariant = False\n",
      "evaluated = True\n",
      "expr = None\n",
      "assigned = False\n",
      "updated = False\n",
      "----------------------\n",
      "name = y\n",
      "mode = Mode.IN_OUT_PARAM\n",
      "well_formed = (True, [])\n",
      "scalar = True\n",
      "bounds = (-2147483648, 2147483647)\n",
      "invariant = False\n",
      "evaluated = True\n",
      "expr = None\n",
      "assigned = False\n",
      "updated = False\n",
      "----------------------\n",
      "name = temp\n",
      "mode = Mode.LOCAL_RW\n",
      "well_formed = (False, [])\n",
      "scalar = True\n",
      "bounds = (None, None)\n",
      "invariant = False\n",
      "evaluated = False\n",
      "expr = None\n",
      "assigned = False\n",
      "updated = False\n",
      "----------------------\n",
      "name = x\n",
      "mode = Mode.IN_OUT_PARAM\n",
      "well_formed = (True, [])\n",
      "scalar = True\n",
      "bounds = (-2147483648, 2147483647)\n",
      "invariant = False\n",
      "evaluated = True\n",
      "expr = <ast.Expression object at 0x10acedd10>\n",
      "assigned = True\n",
      "updated = False\n",
      "----------------------\n",
      "name = y\n",
      "mode = Mode.IN_OUT_PARAM\n",
      "well_formed = (True, [])\n",
      "scalar = True\n",
      "bounds = (-2147483648, 2147483647)\n",
      "invariant = False\n",
      "evaluated = True\n",
      "expr = <ast.Expression object at 0x10b63c3d0>\n",
      "assigned = True\n",
      "updated = False\n",
      "----------------------\n",
      "name = temp\n",
      "mode = Mode.LOCAL_RW\n",
      "well_formed = (False, [(True, <ast.Expression object at 0x10b75a2d0>)])\n",
      "scalar = True\n",
      "bounds = (None, None)\n",
      "invariant = False\n",
      "evaluated = True\n",
      "expr = <ast.Expression object at 0x10b665d10>\n",
      "assigned = True\n",
      "updated = False\n",
      "----------------------\n"
     ]
    }
   ],
   "source": [
    "print_state_stack(state_stack)"
   ]
  },
  {
   "cell_type": "code",
   "execution_count": 120,
   "id": "d8730eed-a9c4-43bc-a75c-6866ef1e64d3",
   "metadata": {},
   "outputs": [],
   "source": [
    "process_statement([(7, 1, Action.EVAL, 'x', None), \n",
    "                   (7, 2, Action.EVAL, 'y', None), \n",
    "                   (7, 3, Action.ELSE_COND, None, 'x > y')])"
   ]
  },
  {
   "cell_type": "code",
   "execution_count": 121,
   "id": "0537d136-e6be-48c6-ad06-45c210557176",
   "metadata": {},
   "outputs": [
    {
     "data": {
      "text/plain": [
       "[(False, <ast.Expression at 0x10ac5e510>),\n",
       " (True, <ast.Expression at 0x10b620610>)]"
      ]
     },
     "execution_count": 121,
     "metadata": {},
     "output_type": "execute_result"
    }
   ],
   "source": [
    "traversal_condition"
   ]
  },
  {
   "cell_type": "code",
   "execution_count": 122,
   "id": "9cf1fcd3-1575-49b4-8640-bf1c097d708c",
   "metadata": {},
   "outputs": [
    {
     "data": {
      "text/plain": [
       "[(<Action.IF_COND: 16>, [], (0, 3)),\n",
       " (<Action.ELSE_COND: 17>, [(False, <ast.Expression at 0x10ac5e510>)], (3, 3))]"
      ]
     },
     "execution_count": 122,
     "metadata": {},
     "output_type": "execute_result"
    }
   ],
   "source": [
    "branch_stack\n"
   ]
  },
  {
   "cell_type": "code",
   "execution_count": 123,
   "id": "5651687a-da63-48bc-9bd1-440d9585db03",
   "metadata": {},
   "outputs": [
    {
     "data": {
      "text/plain": [
       "[(False, <ast.Expression at 0x10ac5e510>),\n",
       " (True, <ast.Expression at 0x10b620610>)]"
      ]
     },
     "execution_count": 123,
     "metadata": {},
     "output_type": "execute_result"
    }
   ],
   "source": [
    "traversal_condition"
   ]
  },
  {
   "cell_type": "code",
   "execution_count": 124,
   "id": "07c27f9b-ff78-4d47-a788-5c0480cded04",
   "metadata": {},
   "outputs": [
    {
     "name": "stdout",
     "output_type": "stream",
     "text": [
      "name = x\n",
      "mode = Mode.IN_OUT_PARAM\n",
      "well_formed = (True, [])\n",
      "scalar = True\n",
      "bounds = (-2147483648, 2147483647)\n",
      "invariant = False\n",
      "evaluated = True\n",
      "expr = None\n",
      "assigned = False\n",
      "updated = False\n",
      "----------------------\n",
      "name = y\n",
      "mode = Mode.IN_OUT_PARAM\n",
      "well_formed = (True, [])\n",
      "scalar = True\n",
      "bounds = (-2147483648, 2147483647)\n",
      "invariant = False\n",
      "evaluated = True\n",
      "expr = None\n",
      "assigned = False\n",
      "updated = False\n",
      "----------------------\n",
      "name = temp\n",
      "mode = Mode.LOCAL_RW\n",
      "well_formed = (False, [])\n",
      "scalar = True\n",
      "bounds = (None, None)\n",
      "invariant = False\n",
      "evaluated = False\n",
      "expr = None\n",
      "assigned = False\n",
      "updated = False\n",
      "----------------------\n",
      "name = x\n",
      "mode = Mode.IN_OUT_PARAM\n",
      "well_formed = (True, [])\n",
      "scalar = True\n",
      "bounds = (-2147483648, 2147483647)\n",
      "invariant = False\n",
      "evaluated = True\n",
      "expr = <ast.Expression object at 0x10acedd10>\n",
      "assigned = True\n",
      "updated = False\n",
      "----------------------\n",
      "name = y\n",
      "mode = Mode.IN_OUT_PARAM\n",
      "well_formed = (True, [])\n",
      "scalar = True\n",
      "bounds = (-2147483648, 2147483647)\n",
      "invariant = False\n",
      "evaluated = True\n",
      "expr = <ast.Expression object at 0x10b63c3d0>\n",
      "assigned = True\n",
      "updated = False\n",
      "----------------------\n",
      "name = temp\n",
      "mode = Mode.LOCAL_RW\n",
      "well_formed = (False, [(True, <ast.Expression object at 0x10b75a2d0>)])\n",
      "scalar = True\n",
      "bounds = (None, None)\n",
      "invariant = False\n",
      "evaluated = True\n",
      "expr = <ast.Expression object at 0x10b665d10>\n",
      "assigned = True\n",
      "updated = False\n",
      "----------------------\n",
      "name = x\n",
      "mode = Mode.IN_OUT_PARAM\n",
      "well_formed = (True, [])\n",
      "scalar = True\n",
      "bounds = (-2147483648, 2147483647)\n",
      "invariant = False\n",
      "evaluated = True\n",
      "expr = None\n",
      "assigned = False\n",
      "updated = False\n",
      "----------------------\n",
      "name = y\n",
      "mode = Mode.IN_OUT_PARAM\n",
      "well_formed = (True, [])\n",
      "scalar = True\n",
      "bounds = (-2147483648, 2147483647)\n",
      "invariant = False\n",
      "evaluated = True\n",
      "expr = None\n",
      "assigned = False\n",
      "updated = False\n",
      "----------------------\n",
      "name = temp\n",
      "mode = Mode.LOCAL_RW\n",
      "well_formed = (False, [])\n",
      "scalar = True\n",
      "bounds = (None, None)\n",
      "invariant = False\n",
      "evaluated = False\n",
      "expr = None\n",
      "assigned = False\n",
      "updated = False\n",
      "----------------------\n"
     ]
    }
   ],
   "source": [
    "print_state_stack(state_stack)"
   ]
  },
  {
   "cell_type": "code",
   "execution_count": 126,
   "id": "ad8ede12-31dd-4a67-87ed-2e86a8bec4c7",
   "metadata": {},
   "outputs": [],
   "source": [
    " process_statement([(8, 1, Action.EVAL,'x',  None), \n",
    "                    (8, 3, Action.ASSIGN_EXPR, 'y', 'x + 10'),\n",
    "                    (8, 4, Action.ASSIGN, 'y', None)]) "
   ]
  },
  {
   "cell_type": "code",
   "execution_count": null,
   "id": "f8a1c4c5-94dc-4314-b3fb-6427116275e5",
   "metadata": {},
   "outputs": [],
   "source": []
  },
  {
   "cell_type": "code",
   "execution_count": null,
   "id": "491d85cd-0edd-48d3-9a86-1d49534885fa",
   "metadata": {},
   "outputs": [],
   "source": []
  },
  {
   "cell_type": "code",
   "execution_count": null,
   "id": "e13c7e9e-7124-4595-9f6b-ec51668926a1",
   "metadata": {},
   "outputs": [],
   "source": []
  },
  {
   "cell_type": "code",
   "execution_count": null,
   "id": "8e81d7a4-a8e1-4300-b036-7ff0ba4bdcf1",
   "metadata": {},
   "outputs": [],
   "source": []
  },
  {
   "cell_type": "code",
   "execution_count": null,
   "id": "2bb6b200-76c5-49d1-957c-c91b96fc3ba8",
   "metadata": {},
   "outputs": [],
   "source": []
  },
  {
   "cell_type": "code",
   "execution_count": 127,
   "id": "ca2ec95e-1039-4b0e-a362-17cf3ddadf15",
   "metadata": {},
   "outputs": [
    {
     "name": "stdout",
     "output_type": "stream",
     "text": [
      "name = x\n",
      "mode = Mode.IN_OUT_PARAM\n",
      "well_formed = (True, [])\n",
      "scalar = True\n",
      "bounds = (-2147483648, 2147483647)\n",
      "invariant = False\n",
      "evaluated = True\n",
      "expr = None\n",
      "assigned = False\n",
      "updated = False\n",
      "----------------------\n",
      "name = y\n",
      "mode = Mode.IN_OUT_PARAM\n",
      "well_formed = (True, [])\n",
      "scalar = True\n",
      "bounds = (-2147483648, 2147483647)\n",
      "invariant = False\n",
      "evaluated = True\n",
      "expr = None\n",
      "assigned = False\n",
      "updated = False\n",
      "----------------------\n",
      "name = temp\n",
      "mode = Mode.LOCAL_RW\n",
      "well_formed = (False, [])\n",
      "scalar = True\n",
      "bounds = (None, None)\n",
      "invariant = False\n",
      "evaluated = False\n",
      "expr = None\n",
      "assigned = False\n",
      "updated = False\n",
      "----------------------\n",
      "name = x\n",
      "mode = Mode.IN_OUT_PARAM\n",
      "well_formed = (True, [])\n",
      "scalar = True\n",
      "bounds = (-2147483648, 2147483647)\n",
      "invariant = False\n",
      "evaluated = True\n",
      "expr = <ast.Expression object at 0x10acedd10>\n",
      "assigned = True\n",
      "updated = False\n",
      "----------------------\n",
      "name = y\n",
      "mode = Mode.IN_OUT_PARAM\n",
      "well_formed = (True, [])\n",
      "scalar = True\n",
      "bounds = (-2147483648, 2147483647)\n",
      "invariant = False\n",
      "evaluated = True\n",
      "expr = <ast.Expression object at 0x10b63c3d0>\n",
      "assigned = True\n",
      "updated = False\n",
      "----------------------\n",
      "name = temp\n",
      "mode = Mode.LOCAL_RW\n",
      "well_formed = (False, [(True, <ast.Expression object at 0x10b75a2d0>)])\n",
      "scalar = True\n",
      "bounds = (None, None)\n",
      "invariant = False\n",
      "evaluated = True\n",
      "expr = <ast.Expression object at 0x10b665d10>\n",
      "assigned = True\n",
      "updated = False\n",
      "----------------------\n",
      "name = x\n",
      "mode = Mode.IN_OUT_PARAM\n",
      "well_formed = (True, [])\n",
      "scalar = True\n",
      "bounds = (-2147483648, 2147483647)\n",
      "invariant = False\n",
      "evaluated = True\n",
      "expr = None\n",
      "assigned = False\n",
      "updated = False\n",
      "----------------------\n",
      "name = y\n",
      "mode = Mode.IN_OUT_PARAM\n",
      "well_formed = (True, [])\n",
      "scalar = True\n",
      "bounds = (-2147483648, 2147483647)\n",
      "invariant = False\n",
      "evaluated = True\n",
      "expr = <ast.Expression object at 0x10b962190>\n",
      "assigned = True\n",
      "updated = False\n",
      "----------------------\n",
      "name = temp\n",
      "mode = Mode.LOCAL_RW\n",
      "well_formed = (False, [])\n",
      "scalar = True\n",
      "bounds = (None, None)\n",
      "invariant = False\n",
      "evaluated = False\n",
      "expr = None\n",
      "assigned = False\n",
      "updated = False\n",
      "----------------------\n"
     ]
    }
   ],
   "source": [
    "print_state_stack(state_stack)"
   ]
  },
  {
   "cell_type": "code",
   "execution_count": 238,
   "id": "21da076c-a7fb-4ca3-91a3-1b7c788e099b",
   "metadata": {},
   "outputs": [
    {
     "name": "stdout",
     "output_type": "stream",
     "text": [
      "merging  (0, 3)  and  (3, 3)\n"
     ]
    }
   ],
   "source": [
    "process_statement([(Action.ELSE_BRANCH, '')])"
   ]
  },
  {
   "cell_type": "code",
   "execution_count": 239,
   "id": "f482c9bb-7442-4ec8-8f95-d20cf70e458e",
   "metadata": {},
   "outputs": [
    {
     "data": {
      "text/plain": [
       "[(<Action.IF_COND: 16>, [], (0, 3)),\n",
       " (<Action.ELSE_BRANCH: 18>,\n",
       "  [(False,\n",
       "    \"Expression(body=Compare(left=Name(id='x', ctx=Load()), ops=[Gt()], comparators=[BinOp(left=Name(id='y', ctx=Load()), op=Add(), right=Constant(value=10))]))\"),\n",
       "   (False,\n",
       "    \"Expression(body=Compare(left=Name(id='x', ctx=Load()), ops=[Gt()], comparators=[Name(id='y', ctx=Load())]))\")],\n",
       "  (3, 3))]"
      ]
     },
     "execution_count": 239,
     "metadata": {},
     "output_type": "execute_result"
    }
   ],
   "source": [
    "branch_stack"
   ]
  },
  {
   "cell_type": "code",
   "execution_count": 240,
   "id": "9248bd98-b8bb-42f9-bb0b-975814e6ccc9",
   "metadata": {},
   "outputs": [
    {
     "name": "stdout",
     "output_type": "stream",
     "text": [
      "merging  (0, 3)  and  (3, 3)\n"
     ]
    }
   ],
   "source": [
    "process_statement([(Action.END_IF, '')])"
   ]
  },
  {
   "cell_type": "code",
   "execution_count": 241,
   "id": "4bd0c04b-784e-466b-9144-b7399737fcb9",
   "metadata": {},
   "outputs": [
    {
     "name": "stdout",
     "output_type": "stream",
     "text": [
      "[]\n"
     ]
    }
   ],
   "source": [
    "print(branch_stack)"
   ]
  },
  {
   "cell_type": "code",
   "execution_count": 242,
   "id": "a1861149-b934-46a3-9081-aba9eda19649",
   "metadata": {},
   "outputs": [
    {
     "name": "stdout",
     "output_type": "stream",
     "text": [
      "name = x\n",
      "mode = Mode.IN_OUT_PARAM\n",
      "well_formed = (True, [])\n",
      "scalar = True\n",
      "bounds = (-2147483648, 2147483647)\n",
      "invariant = False\n",
      "evaluated = True\n",
      "assigned = True\n",
      "updated = False\n",
      "----------------------\n",
      "name = y\n",
      "mode = Mode.IN_OUT_PARAM\n",
      "well_formed = (True, [])\n",
      "scalar = True\n",
      "bounds = (-2147483648, 2147483647)\n",
      "invariant = False\n",
      "evaluated = True\n",
      "assigned = True\n",
      "updated = False\n",
      "----------------------\n",
      "name = temp\n",
      "mode = Mode.LOCAL_RW\n",
      "well_formed = (True, [(True, \"Expression(body=Compare(left=Name(id='x', ctx=Load()), ops=[Gt()], comparators=[BinOp(left=Name(id='y', ctx=Load()), op=Add(), right=Constant(value=10))]))\")])\n",
      "scalar = True\n",
      "bounds = (None, None)\n",
      "invariant = False\n",
      "evaluated = True\n",
      "assigned = True\n",
      "updated = False\n",
      "----------------------\n"
     ]
    }
   ],
   "source": [
    "print_state_stack(state_stack)"
   ]
  },
  {
   "cell_type": "code",
   "execution_count": 243,
   "id": "2935249c-8bb6-4364-9ad2-292a22e18391",
   "metadata": {},
   "outputs": [
    {
     "name": "stdout",
     "output_type": "stream",
     "text": [
      "0 3\n"
     ]
    }
   ],
   "source": [
    "print(frame_ptr, frame)"
   ]
  },
  {
   "cell_type": "code",
   "execution_count": 2,
   "id": "fd316e80-ebaa-4652-94cb-7e99c5176dd9",
   "metadata": {},
   "outputs": [
    {
     "name": "stdout",
     "output_type": "stream",
     "text": [
      "<ast.Module object at 0x1098b2090>\n",
      "{'body': [<ast.Expr object at 0x1098b0bd0>], 'type_ignores': []}\n",
      "children: [<ast.Expr object at 0x1098b0bd0>]\\n\n",
      "<ast.Expr object at 0x1098b0bd0>\n",
      "{'value': <ast.Name object at 0x1098b0250>, 'lineno': 1, 'col_offset': 0, 'end_lineno': 1, 'end_col_offset': 1}\n",
      "children: [<ast.Name object at 0x1098b0250>]\\n\n",
      "<ast.Name object at 0x1098b0250>\n",
      "{'id': 'x', 'ctx': <ast.Load object at 0x105dd4610>, 'lineno': 1, 'col_offset': 0, 'end_lineno': 1, 'end_col_offset': 1}\n",
      "children: [<ast.Load object at 0x105dd4610>]\\n\n",
      "<ast.Load object at 0x105dd4610>\n",
      "{'parent': <ast.Name object at 0x10a0bc9d0>}\n",
      "children: []\\n\n"
     ]
    }
   ],
   "source": [
    "import ast\n",
    "for node in ast.walk(ast.parse('x')):\n",
    "    print(node)\n",
    "    print(node.__dict__)\n",
    "    print(\"children: \" + str([x for x in ast.iter_child_nodes(node)]) + \"\\\\n\")"
   ]
  },
  {
   "cell_type": "code",
   "execution_count": 18,
   "id": "b8f1734f-572f-4c82-a0fb-34d6f8e1ebeb",
   "metadata": {},
   "outputs": [],
   "source": [
    "import ast\n",
    "from pprint import pprint\n",
    "\n",
    "class Analyzer(ast.NodeVisitor):\n",
    "    def __init__(self):\n",
    "        self.stats = {\"expr\": [], \"name\": []}\n",
    "\n",
    "    def visit_Expression(self, node):\n",
    "        self.stats[\"expr\"].append(node.body)\n",
    "        self.generic_visit(node)\n",
    "\n",
    "    def visit_Name(self, node):\n",
    "        self.stats[\"name\"].append(node.id)\n",
    "        self.generic_visit(node)\n",
    "\n",
    "    def report(self):\n",
    "        pprint(self.stats)\n"
   ]
  },
  {
   "cell_type": "code",
   "execution_count": 28,
   "id": "e5e36bf4-a964-4ab5-9122-e05db89e9586",
   "metadata": {},
   "outputs": [
    {
     "name": "stdout",
     "output_type": "stream",
     "text": [
      "{'expr': [<ast.BinOp object at 0x10ac6e4d0>], 'name': ['y']}\n"
     ]
    }
   ],
   "source": [
    "analyzer = Analyzer()\n",
    "tree = ast.parse ('y * 10', mode='eval')\n",
    "analyzer.visit(tree)\n",
    "analyzer.report()"
   ]
  },
  {
   "cell_type": "code",
   "execution_count": 22,
   "id": "dee51d57-9909-4b23-adfd-f327770a5bce",
   "metadata": {},
   "outputs": [
    {
     "data": {
      "text/plain": [
       "\"Module(body=[Assign(targets=[Name(id='x', ctx=Store())], value=BinOp(left=Name(id='y', ctx=Load()), op=Mult(), right=Constant(value=10)))], type_ignores=[])\""
      ]
     },
     "execution_count": 22,
     "metadata": {},
     "output_type": "execute_result"
    }
   ],
   "source": [
    "ast.dump(tree)"
   ]
  },
  {
   "cell_type": "code",
   "execution_count": 7,
   "id": "fc96b209-04f6-4ba3-a636-d0e425a6636c",
   "metadata": {},
   "outputs": [
    {
     "data": {
      "text/plain": [
       "\"Expression(body=Subscript(value=Name(id='a', ctx=Load()), slice=Name(id='b', ctx=Load()), ctx=Load()))\""
      ]
     },
     "execution_count": 7,
     "metadata": {},
     "output_type": "execute_result"
    }
   ],
   "source": [
    "import ast\n",
    "ast.dump(ast.parse('a[b]', mode='eval'))"
   ]
  },
  {
   "cell_type": "code",
   "execution_count": 13,
   "id": "aa828d7b-7a9f-497b-a875-310134c531cf",
   "metadata": {},
   "outputs": [
    {
     "data": {
      "text/plain": [
       "False"
      ]
     },
     "execution_count": 13,
     "metadata": {},
     "output_type": "execute_result"
    }
   ],
   "source": [
    "':=' in 'a = b'"
   ]
  },
  {
   "cell_type": "code",
   "execution_count": 17,
   "id": "da902ea3-dbcb-4563-94ac-6df322d0668b",
   "metadata": {},
   "outputs": [
    {
     "data": {
      "text/plain": [
       "['a']"
      ]
     },
     "execution_count": 17,
     "metadata": {},
     "output_type": "execute_result"
    }
   ],
   "source": [
    "'a'.split('(')"
   ]
  },
  {
   "cell_type": "code",
   "execution_count": 21,
   "id": "a2cd0b8c-00c6-42e0-9df9-d5311cd0034a",
   "metadata": {},
   "outputs": [
    {
     "data": {
      "text/plain": [
       "'Expression(body=Constant(value=10))'"
      ]
     },
     "execution_count": 21,
     "metadata": {},
     "output_type": "execute_result"
    }
   ],
   "source": [
    "ast.dump(ast.parse('(10)', mode='eval'))"
   ]
  },
  {
   "cell_type": "code",
   "execution_count": 34,
   "id": "cc449fb6-94ae-4ab1-83f4-18cd49a372ff",
   "metadata": {},
   "outputs": [],
   "source": [
    "class Get_Names(ast.NodeVisitor):\n",
    "    def __init__(self):\n",
    "        self.names = []\n",
    "\n",
    "    def visit_Name(self, node):\n",
    "        self.names = self.names + [node.id]\n",
    "        self.generic_visit(node)\n",
    "\n",
    "    def name_list(self):\n",
    "        return self.names\n"
   ]
  },
  {
   "cell_type": "code",
   "execution_count": 37,
   "id": "eb2138e2-a602-4067-90c3-4a730b2d832b",
   "metadata": {},
   "outputs": [],
   "source": [
    "evaluated_names=Get_Names()\n",
    "evaluated_names.visit(ast.parse(\"x + y - 10 * (z - n)\", mode='eval'))"
   ]
  },
  {
   "cell_type": "code",
   "execution_count": null,
   "id": "ad09c2ca-bf8c-4c39-a8b7-5c51e8333f08",
   "metadata": {},
   "outputs": [],
   "source": []
  },
  {
   "cell_type": "code",
   "execution_count": 36,
   "id": "53f502a3-0a77-44d1-b24c-a9d4eb224670",
   "metadata": {},
   "outputs": [
    {
     "data": {
      "text/plain": [
       "\"Expression(body=BinOp(left=BinOp(left=Name(id='x', ctx=Load()), op=Add(), right=Name(id='y', ctx=Load())), op=Sub(), right=BinOp(left=Constant(value=10), op=Mult(), right=BinOp(left=Name(id='z', ctx=Load()), op=Sub(), right=Name(id='n', ctx=Load())))))\""
      ]
     },
     "execution_count": 36,
     "metadata": {},
     "output_type": "execute_result"
    }
   ],
   "source": [
    "ast.dump(ast.parse(\"x + y - 10 * (z - n)\", mode='eval'))"
   ]
  },
  {
   "cell_type": "code",
   "execution_count": 38,
   "id": "a35b56f5-7eb8-4124-b63b-5b06a25407c3",
   "metadata": {},
   "outputs": [
    {
     "data": {
      "text/plain": [
       "['x', 'y', 'z', 'n']"
      ]
     },
     "execution_count": 38,
     "metadata": {},
     "output_type": "execute_result"
    }
   ],
   "source": [
    "evaluated_names.name_list()"
   ]
  },
  {
   "cell_type": "code",
   "execution_count": 86,
   "id": "a39cbe02-60e6-4fd0-9b40-f30d0e51f62a",
   "metadata": {},
   "outputs": [],
   "source": [
    "c='''\n",
    "Now is the \n",
    "time for all good\n",
    "men to come to'''"
   ]
  },
  {
   "cell_type": "code",
   "execution_count": 87,
   "id": "12cae7dc-834f-416f-b8d2-e28d7c9bfa93",
   "metadata": {},
   "outputs": [
    {
     "data": {
      "text/plain": [
       "'\\nNow is the \\ntime for all good\\nmen to come to'"
      ]
     },
     "execution_count": 87,
     "metadata": {},
     "output_type": "execute_result"
    }
   ],
   "source": [
    "c\n"
   ]
  },
  {
   "cell_type": "code",
   "execution_count": null,
   "id": "a84d642f-67db-4a69-9514-9fc5556d5471",
   "metadata": {},
   "outputs": [],
   "source": []
  }
 ],
 "metadata": {
  "kernelspec": {
   "display_name": "Python 3 (ipykernel)",
   "language": "python",
   "name": "python3"
  },
  "language_info": {
   "codemirror_mode": {
    "name": "ipython",
    "version": 3
   },
   "file_extension": ".py",
   "mimetype": "text/x-python",
   "name": "python",
   "nbconvert_exporter": "python",
   "pygments_lexer": "ipython3",
   "version": "3.12.7"
  }
 },
 "nbformat": 4,
 "nbformat_minor": 5
}

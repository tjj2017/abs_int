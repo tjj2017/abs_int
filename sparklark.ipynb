{
 "cells": [
  {
   "cell_type": "code",
   "execution_count": 13,
   "id": "2a62c62e-fc84-4179-86e7-19bb75298256",
   "metadata": {},
   "outputs": [],
   "source": [
    "from lark import Lark\n"
   ]
  },
  {
   "cell_type": "code",
   "execution_count": 200,
   "id": "8c69363c-965a-430f-a930-56176b904e8d",
   "metadata": {},
   "outputs": [],
   "source": [
    "subprogram_body = Lark(r\"\"\"\n",
    "    procedure_body : procedure_specification contract # \"is\" declarative_part statements \"end\" NAME\n",
    "\n",
    "    procedure_specification : \"procedure\" procedure_name [\"(\" parameter_list \")\"] \n",
    "    parameter_list : parameter [\";\" parameter]*\n",
    "    parameter      : variable_name \":\"  mode type_name\n",
    "    contract       : classic_subprogram_contract\n",
    "                   | spark_2014_subprogram_contract\n",
    "\n",
    "    classic_subprogram_contract : [global_definition] [dependency_relation] [precondition] [postcondition]\n",
    "    \n",
    "    global_definition : \"global\" mode global_item_list \";\" [mode global_item_list \";\"]*\n",
    "    global_item_list  : global_item [\",\" global_item]*\n",
    "\n",
    "    dependency_relation : \"derives\" dependency_clauses\n",
    "    dependency_clauses : dependency_clause [\"&\" dependency_clause]* [\"&\" null_dependency_clause]\";\"\n",
    "    dependency_clause : exported_variable_list \"from\" [extended_imported_item_list]\n",
    "                      | null_dependency_clause\n",
    "    null_dependency_clause : NULL \"from\" imported_item_list\n",
    "\n",
    "    exported_variable_list : exported_variable [\",\" exported_variable]*\n",
    "    extended_imported_item_list : STAR | [STAR \",\"] imported_item_list\n",
    "    imported_item_list : imported_item [\",\" imported_item]*\n",
    "\n",
    "    precondition : \"pre\" classic_predicate\n",
    "    postcondition : \"post\" classic_predicate\n",
    "\n",
    "    classic_predicate : STRING\n",
    "\n",
    "    spark_2014_subprogram_contract : [\"with\" aspect_clauses]\n",
    "    aspect_clauses : aspect_clause [\",\" aspect_clause]*\n",
    "    \n",
    "    aspect_clause : [global_aspect] [dependency_aspect] [precondition_aspect] [postcondition_aspect]\n",
    "\n",
    "    global_aspect : \"global\" \"=>\" global_specification\n",
    "    global_specification : \"(\" moded_global_list [\",\" moded_global_list]* \")\"\n",
    "                         | global_list\n",
    "                         | null_global_specification\n",
    "    moded_global_list : mode_selector \"=>\" global_list\n",
    "    global_list : global_item \n",
    "                | \"(\" global_item [\",\" global_item]* \")\"\n",
    "    mode_selector     : INPUT | OUTPUT | IN_OUT | PROOF_IN\n",
    "    null_global_specification : NULL\n",
    "\n",
    "    dependency_aspect : \"depends\" \"=>\" dependency_list\n",
    "    dependency_list : NULL\n",
    "                    | \"(\" dependency_specification [\",\" dependency_specification]* \")\"\n",
    "    dependency_specification : output_list \"=>\" [PLUS] input_list\n",
    "                             | null_dependecy_specification\n",
    "    null_dependecy_specification : NULL \"=>\" input_list\n",
    "    output_list : output\n",
    "                | \"(\" output [\",\" output]*\")\"\n",
    "    input_list : input\n",
    "               | \"(\" input [\",\" input]* \")\"\n",
    "               | NULL\n",
    "\n",
    "    precondition_aspect : \"pre\" \"=>\" predicate\n",
    "    postcondition_aspect : \"post\" \"=>\" predicate\n",
    "\n",
    "    predicate : STRING\n",
    "            \n",
    "   mode : [IN] [OUT]\n",
    "\n",
    "    exported_variable : NAME\n",
    "    global_item       : NAME\n",
    "    imported_item     : NAME\n",
    "    input             : NAME\n",
    "    output            : NAME\n",
    "    procedure_name    : NAME\n",
    "    type_name         : NAME\n",
    "    variable_name     : NAME\n",
    "\n",
    "    GLOBAL   : \"global\"\n",
    "    IN       : \"in\"\n",
    "    IN_OUT   : \"in_out\"\n",
    "    INPUT    : \"input\"\n",
    "    NULL     : \"null\"\n",
    "    OUT      : \"out\"\n",
    "    OUTPUT   : \"output\"\n",
    "    PLUS     : \"+\"\n",
    "    PROOF_IN : \"proof_in\"\n",
    "    STAR     : \"*\"\n",
    "    \n",
    "    %import common.CNAME -> NAME\n",
    "    %import common.ESCAPED_STRING -> STRING\n",
    "    %import common.SIGNED_NUMBER\n",
    "    %import common.WS\n",
    "    %ignore WS\n",
    "\n",
    "    ANNO : \"--#\"\n",
    "    %ignore ANNO\n",
    "\n",
    "    \"\"\", start='procedure_body', lexer='basic')\n"
   ]
  },
  {
   "cell_type": "code",
   "execution_count": 201,
   "id": "22b44bea-65b6-4275-bd7c-e8714d307cd1",
   "metadata": {},
   "outputs": [
    {
     "name": "stdout",
     "output_type": "stream",
     "text": [
      "procedure P1 (a : in integer; b : in out integer; c : natural)\n"
     ]
    },
    {
     "data": {
      "text/plain": [
       "Tree(Token('RULE', 'procedure_body'), [Tree(Token('RULE', 'procedure_specification'), [Tree(Token('RULE', 'procedure_name'), [Token('NAME', 'P1')]), Tree(Token('RULE', 'parameter_list'), [Tree(Token('RULE', 'parameter'), [Tree(Token('RULE', 'variable_name'), [Token('NAME', 'a')]), Tree(Token('RULE', 'mode'), [Token('IN', 'in'), None]), Tree(Token('RULE', 'type_name'), [Token('NAME', 'integer')])]), Tree(Token('RULE', 'parameter'), [Tree(Token('RULE', 'variable_name'), [Token('NAME', 'b')]), Tree(Token('RULE', 'mode'), [Token('IN', 'in'), Token('OUT', 'out')]), Tree(Token('RULE', 'type_name'), [Token('NAME', 'integer')])]), Tree(Token('RULE', 'parameter'), [Tree(Token('RULE', 'variable_name'), [Token('NAME', 'c')]), Tree(Token('RULE', 'mode'), [None, None]), Tree(Token('RULE', 'type_name'), [Token('NAME', 'natural')])])])]), Tree(Token('RULE', 'contract'), [Tree(Token('RULE', 'classic_subprogram_contract'), [None, None, None, None])])])"
      ]
     },
     "execution_count": 201,
     "metadata": {},
     "output_type": "execute_result"
    }
   ],
   "source": [
    "text='''procedure P1 (a : in integer; b : in out integer; c : natural)'''\n",
    "print (text)\n",
    "subprogram_body.parse(text)"
   ]
  },
  {
   "cell_type": "code",
   "execution_count": 202,
   "id": "9e1c1e57-994d-4be7-ba21-f0858d0ba5b8",
   "metadata": {},
   "outputs": [
    {
     "name": "stdout",
     "output_type": "stream",
     "text": [
      "procedure_body\n",
      "  procedure_specification\n",
      "    procedure_name\tP1\n",
      "    parameter_list\n",
      "      parameter\n",
      "        variable_name\ta\n",
      "        mode\n",
      "          in\n",
      "          None\n",
      "        type_name\tinteger\n",
      "      parameter\n",
      "        variable_name\tb\n",
      "        mode\n",
      "          in\n",
      "          out\n",
      "        type_name\tinteger\n",
      "      parameter\n",
      "        variable_name\tc\n",
      "        mode\n",
      "          None\n",
      "          None\n",
      "        type_name\tnatural\n",
      "  contract\n",
      "    classic_subprogram_contract\n",
      "      None\n",
      "      None\n",
      "      None\n",
      "      None\n",
      "\n"
     ]
    }
   ],
   "source": [
    "print( _.pretty() )"
   ]
  },
  {
   "cell_type": "code",
   "execution_count": 203,
   "id": "8cf53db9-fb63-4a70-87a2-ea9a385dc271",
   "metadata": {},
   "outputs": [
    {
     "name": "stdout",
     "output_type": "stream",
     "text": [
      "procedure P1 (a : in integer; b : in out integer; c : natural)\n",
      "          --# global in g, h, j;\n",
      "          --#        in out r, s, t;\n",
      "          --#        out    x, y, z;\n"
     ]
    },
    {
     "data": {
      "text/plain": [
       "Tree(Token('RULE', 'procedure_body'), [Tree(Token('RULE', 'procedure_specification'), [Tree(Token('RULE', 'procedure_name'), [Token('NAME', 'P1')]), Tree(Token('RULE', 'parameter_list'), [Tree(Token('RULE', 'parameter'), [Tree(Token('RULE', 'variable_name'), [Token('NAME', 'a')]), Tree(Token('RULE', 'mode'), [Token('IN', 'in'), None]), Tree(Token('RULE', 'type_name'), [Token('NAME', 'integer')])]), Tree(Token('RULE', 'parameter'), [Tree(Token('RULE', 'variable_name'), [Token('NAME', 'b')]), Tree(Token('RULE', 'mode'), [Token('IN', 'in'), Token('OUT', 'out')]), Tree(Token('RULE', 'type_name'), [Token('NAME', 'integer')])]), Tree(Token('RULE', 'parameter'), [Tree(Token('RULE', 'variable_name'), [Token('NAME', 'c')]), Tree(Token('RULE', 'mode'), [None, None]), Tree(Token('RULE', 'type_name'), [Token('NAME', 'natural')])])])]), Tree(Token('RULE', 'contract'), [Tree(Token('RULE', 'classic_subprogram_contract'), [Tree(Token('RULE', 'global_definition'), [Tree(Token('RULE', 'mode'), [Token('IN', 'in'), None]), Tree(Token('RULE', 'global_item_list'), [Tree(Token('RULE', 'global_item'), [Token('NAME', 'g')]), Tree(Token('RULE', 'global_item'), [Token('NAME', 'h')]), Tree(Token('RULE', 'global_item'), [Token('NAME', 'j')])]), Tree(Token('RULE', 'mode'), [Token('IN', 'in'), Token('OUT', 'out')]), Tree(Token('RULE', 'global_item_list'), [Tree(Token('RULE', 'global_item'), [Token('NAME', 'r')]), Tree(Token('RULE', 'global_item'), [Token('NAME', 's')]), Tree(Token('RULE', 'global_item'), [Token('NAME', 't')])]), Tree(Token('RULE', 'mode'), [None, Token('OUT', 'out')]), Tree(Token('RULE', 'global_item_list'), [Tree(Token('RULE', 'global_item'), [Token('NAME', 'x')]), Tree(Token('RULE', 'global_item'), [Token('NAME', 'y')]), Tree(Token('RULE', 'global_item'), [Token('NAME', 'z')])])]), None, None, None])])])"
      ]
     },
     "execution_count": 203,
     "metadata": {},
     "output_type": "execute_result"
    }
   ],
   "source": [
    "text = '''procedure P1 (a : in integer; b : in out integer; c : natural)\n",
    "          --# global in g, h, j;\n",
    "          --#        in out r, s, t;\n",
    "          --#        out    x, y, z;'''\n",
    "print (text)\n",
    "subprogram_body.parse(text)"
   ]
  },
  {
   "cell_type": "code",
   "execution_count": 204,
   "id": "04ffd281-d01d-41cc-9650-830b685d7b9c",
   "metadata": {},
   "outputs": [
    {
     "name": "stdout",
     "output_type": "stream",
     "text": [
      "procedure_body\n",
      "  procedure_specification\n",
      "    procedure_name\tP1\n",
      "    parameter_list\n",
      "      parameter\n",
      "        variable_name\ta\n",
      "        mode\n",
      "          in\n",
      "          None\n",
      "        type_name\tinteger\n",
      "      parameter\n",
      "        variable_name\tb\n",
      "        mode\n",
      "          in\n",
      "          out\n",
      "        type_name\tinteger\n",
      "      parameter\n",
      "        variable_name\tc\n",
      "        mode\n",
      "          None\n",
      "          None\n",
      "        type_name\tnatural\n",
      "  contract\n",
      "    classic_subprogram_contract\n",
      "      global_definition\n",
      "        mode\n",
      "          in\n",
      "          None\n",
      "        global_item_list\n",
      "          global_item\tg\n",
      "          global_item\th\n",
      "          global_item\tj\n",
      "        mode\n",
      "          in\n",
      "          out\n",
      "        global_item_list\n",
      "          global_item\tr\n",
      "          global_item\ts\n",
      "          global_item\tt\n",
      "        mode\n",
      "          None\n",
      "          out\n",
      "        global_item_list\n",
      "          global_item\tx\n",
      "          global_item\ty\n",
      "          global_item\tz\n",
      "      None\n",
      "      None\n",
      "      None\n",
      "\n"
     ]
    }
   ],
   "source": [
    "print( _.pretty() )"
   ]
  },
  {
   "cell_type": "code",
   "execution_count": 205,
   "id": "6091c757-f1a3-45e7-942a-f6c707a49be6",
   "metadata": {},
   "outputs": [
    {
     "name": "stdout",
     "output_type": "stream",
     "text": [
      "procedure P1 (a : in integer; b : in out integer; c : natural)\n",
      "          with global => (input => (g, h, j), \n",
      "                     in_out => (r, s, j), \n",
      "                     output => (x, y, z))\n"
     ]
    },
    {
     "data": {
      "text/plain": [
       "Tree(Token('RULE', 'procedure_body'), [Tree(Token('RULE', 'procedure_specification'), [Tree(Token('RULE', 'procedure_name'), [Token('NAME', 'P1')]), Tree(Token('RULE', 'parameter_list'), [Tree(Token('RULE', 'parameter'), [Tree(Token('RULE', 'variable_name'), [Token('NAME', 'a')]), Tree(Token('RULE', 'mode'), [Token('IN', 'in'), None]), Tree(Token('RULE', 'type_name'), [Token('NAME', 'integer')])]), Tree(Token('RULE', 'parameter'), [Tree(Token('RULE', 'variable_name'), [Token('NAME', 'b')]), Tree(Token('RULE', 'mode'), [Token('IN', 'in'), Token('OUT', 'out')]), Tree(Token('RULE', 'type_name'), [Token('NAME', 'integer')])]), Tree(Token('RULE', 'parameter'), [Tree(Token('RULE', 'variable_name'), [Token('NAME', 'c')]), Tree(Token('RULE', 'mode'), [None, None]), Tree(Token('RULE', 'type_name'), [Token('NAME', 'natural')])])])]), Tree(Token('RULE', 'contract'), [Tree(Token('RULE', 'spark_2014_subprogram_contract'), [Tree(Token('RULE', 'aspect_clauses'), [Tree(Token('RULE', 'aspect_clause'), [Tree(Token('RULE', 'global_aspect'), [Tree(Token('RULE', 'global_specification'), [Tree(Token('RULE', 'moded_global_list'), [Tree(Token('RULE', 'mode_selector'), [Token('INPUT', 'input')]), Tree(Token('RULE', 'global_list'), [Tree(Token('RULE', 'global_item'), [Token('NAME', 'g')]), Tree(Token('RULE', 'global_item'), [Token('NAME', 'h')]), Tree(Token('RULE', 'global_item'), [Token('NAME', 'j')])])]), Tree(Token('RULE', 'moded_global_list'), [Tree(Token('RULE', 'mode_selector'), [Token('IN_OUT', 'in_out')]), Tree(Token('RULE', 'global_list'), [Tree(Token('RULE', 'global_item'), [Token('NAME', 'r')]), Tree(Token('RULE', 'global_item'), [Token('NAME', 's')]), Tree(Token('RULE', 'global_item'), [Token('NAME', 'j')])])]), Tree(Token('RULE', 'moded_global_list'), [Tree(Token('RULE', 'mode_selector'), [Token('OUTPUT', 'output')]), Tree(Token('RULE', 'global_list'), [Tree(Token('RULE', 'global_item'), [Token('NAME', 'x')]), Tree(Token('RULE', 'global_item'), [Token('NAME', 'y')]), Tree(Token('RULE', 'global_item'), [Token('NAME', 'z')])])])])]), None, None, None]), None])])])])"
      ]
     },
     "execution_count": 205,
     "metadata": {},
     "output_type": "execute_result"
    }
   ],
   "source": [
    "text = '''procedure P1 (a : in integer; b : in out integer; c : natural)\n",
    "          with global => (input => (g, h, j), \n",
    "                     in_out => (r, s, j), \n",
    "                     output => (x, y, z))'''\n",
    "print (text)\n",
    "subprogram_body.parse(text)"
   ]
  },
  {
   "cell_type": "code",
   "execution_count": 206,
   "id": "150cf414-88bf-404e-a658-798ed9c33918",
   "metadata": {},
   "outputs": [
    {
     "name": "stdout",
     "output_type": "stream",
     "text": [
      "procedure_body\n",
      "  procedure_specification\n",
      "    procedure_name\tP1\n",
      "    parameter_list\n",
      "      parameter\n",
      "        variable_name\ta\n",
      "        mode\n",
      "          in\n",
      "          None\n",
      "        type_name\tinteger\n",
      "      parameter\n",
      "        variable_name\tb\n",
      "        mode\n",
      "          in\n",
      "          out\n",
      "        type_name\tinteger\n",
      "      parameter\n",
      "        variable_name\tc\n",
      "        mode\n",
      "          None\n",
      "          None\n",
      "        type_name\tnatural\n",
      "  contract\n",
      "    spark_2014_subprogram_contract\n",
      "      aspect_clauses\n",
      "        aspect_clause\n",
      "          global_aspect\n",
      "            global_specification\n",
      "              moded_global_list\n",
      "                mode_selector\tinput\n",
      "                global_list\n",
      "                  global_item\tg\n",
      "                  global_item\th\n",
      "                  global_item\tj\n",
      "              moded_global_list\n",
      "                mode_selector\tin_out\n",
      "                global_list\n",
      "                  global_item\tr\n",
      "                  global_item\ts\n",
      "                  global_item\tj\n",
      "              moded_global_list\n",
      "                mode_selector\toutput\n",
      "                global_list\n",
      "                  global_item\tx\n",
      "                  global_item\ty\n",
      "                  global_item\tz\n",
      "          None\n",
      "          None\n",
      "          None\n",
      "        None\n",
      "\n"
     ]
    }
   ],
   "source": [
    "print( _.pretty() )"
   ]
  },
  {
   "cell_type": "code",
   "execution_count": 207,
   "id": "38ec2950-8e66-4c4d-bed5-5ba308c4b009",
   "metadata": {},
   "outputs": [
    {
     "name": "stdout",
     "output_type": "stream",
     "text": [
      "procedure P1 (a : in integer; b : in out integer; c : natural)\n",
      "          --# global in g, h, j;\n",
      "          --#        in out r, s, t;\n",
      "          --#        out    x, y, z;\n",
      "          --# derives r, x, y from g, h, s &\n",
      "                      s from *             &\n",
      "                      t from *, y, z;\n"
     ]
    },
    {
     "data": {
      "text/plain": [
       "Tree(Token('RULE', 'procedure_body'), [Tree(Token('RULE', 'procedure_specification'), [Tree(Token('RULE', 'procedure_name'), [Token('NAME', 'P1')]), Tree(Token('RULE', 'parameter_list'), [Tree(Token('RULE', 'parameter'), [Tree(Token('RULE', 'variable_name'), [Token('NAME', 'a')]), Tree(Token('RULE', 'mode'), [Token('IN', 'in'), None]), Tree(Token('RULE', 'type_name'), [Token('NAME', 'integer')])]), Tree(Token('RULE', 'parameter'), [Tree(Token('RULE', 'variable_name'), [Token('NAME', 'b')]), Tree(Token('RULE', 'mode'), [Token('IN', 'in'), Token('OUT', 'out')]), Tree(Token('RULE', 'type_name'), [Token('NAME', 'integer')])]), Tree(Token('RULE', 'parameter'), [Tree(Token('RULE', 'variable_name'), [Token('NAME', 'c')]), Tree(Token('RULE', 'mode'), [None, None]), Tree(Token('RULE', 'type_name'), [Token('NAME', 'natural')])])])]), Tree(Token('RULE', 'contract'), [Tree(Token('RULE', 'classic_subprogram_contract'), [Tree(Token('RULE', 'global_definition'), [Tree(Token('RULE', 'mode'), [Token('IN', 'in'), None]), Tree(Token('RULE', 'global_item_list'), [Tree(Token('RULE', 'global_item'), [Token('NAME', 'g')]), Tree(Token('RULE', 'global_item'), [Token('NAME', 'h')]), Tree(Token('RULE', 'global_item'), [Token('NAME', 'j')])]), Tree(Token('RULE', 'mode'), [Token('IN', 'in'), Token('OUT', 'out')]), Tree(Token('RULE', 'global_item_list'), [Tree(Token('RULE', 'global_item'), [Token('NAME', 'r')]), Tree(Token('RULE', 'global_item'), [Token('NAME', 's')]), Tree(Token('RULE', 'global_item'), [Token('NAME', 't')])]), Tree(Token('RULE', 'mode'), [None, Token('OUT', 'out')]), Tree(Token('RULE', 'global_item_list'), [Tree(Token('RULE', 'global_item'), [Token('NAME', 'x')]), Tree(Token('RULE', 'global_item'), [Token('NAME', 'y')]), Tree(Token('RULE', 'global_item'), [Token('NAME', 'z')])])]), Tree(Token('RULE', 'dependency_relation'), [Tree(Token('RULE', 'dependency_clauses'), [Tree(Token('RULE', 'dependency_clause'), [Tree(Token('RULE', 'exported_variable_list'), [Tree(Token('RULE', 'exported_variable'), [Token('NAME', 'r')]), Tree(Token('RULE', 'exported_variable'), [Token('NAME', 'x')]), Tree(Token('RULE', 'exported_variable'), [Token('NAME', 'y')])]), Tree(Token('RULE', 'extended_imported_item_list'), [None, Tree(Token('RULE', 'imported_item_list'), [Tree(Token('RULE', 'imported_item'), [Token('NAME', 'g')]), Tree(Token('RULE', 'imported_item'), [Token('NAME', 'h')]), Tree(Token('RULE', 'imported_item'), [Token('NAME', 's')])])])]), Tree(Token('RULE', 'dependency_clause'), [Tree(Token('RULE', 'exported_variable_list'), [Tree(Token('RULE', 'exported_variable'), [Token('NAME', 's')]), None]), Tree(Token('RULE', 'extended_imported_item_list'), [Token('STAR', '*')])]), Tree(Token('RULE', 'dependency_clause'), [Tree(Token('RULE', 'exported_variable_list'), [Tree(Token('RULE', 'exported_variable'), [Token('NAME', 't')]), None]), Tree(Token('RULE', 'extended_imported_item_list'), [Token('STAR', '*'), Tree(Token('RULE', 'imported_item_list'), [Tree(Token('RULE', 'imported_item'), [Token('NAME', 'y')]), Tree(Token('RULE', 'imported_item'), [Token('NAME', 'z')])])])]), None])]), None, None])])])"
      ]
     },
     "execution_count": 207,
     "metadata": {},
     "output_type": "execute_result"
    }
   ],
   "source": [
    "text = '''procedure P1 (a : in integer; b : in out integer; c : natural)\n",
    "          --# global in g, h, j;\n",
    "          --#        in out r, s, t;\n",
    "          --#        out    x, y, z;\n",
    "          --# derives r, x, y from g, h, s &\n",
    "                      s from *             &\n",
    "                      t from *, y, z;'''\n",
    "print (text)\n",
    "subprogram_body.parse(text)"
   ]
  },
  {
   "cell_type": "code",
   "execution_count": 208,
   "id": "a13fd151-94cc-4df6-9d70-7deef71b90bd",
   "metadata": {},
   "outputs": [
    {
     "name": "stdout",
     "output_type": "stream",
     "text": [
      "procedure_body\n",
      "  procedure_specification\n",
      "    procedure_name\tP1\n",
      "    parameter_list\n",
      "      parameter\n",
      "        variable_name\ta\n",
      "        mode\n",
      "          in\n",
      "          None\n",
      "        type_name\tinteger\n",
      "      parameter\n",
      "        variable_name\tb\n",
      "        mode\n",
      "          in\n",
      "          out\n",
      "        type_name\tinteger\n",
      "      parameter\n",
      "        variable_name\tc\n",
      "        mode\n",
      "          None\n",
      "          None\n",
      "        type_name\tnatural\n",
      "  contract\n",
      "    classic_subprogram_contract\n",
      "      global_definition\n",
      "        mode\n",
      "          in\n",
      "          None\n",
      "        global_item_list\n",
      "          global_item\tg\n",
      "          global_item\th\n",
      "          global_item\tj\n",
      "        mode\n",
      "          in\n",
      "          out\n",
      "        global_item_list\n",
      "          global_item\tr\n",
      "          global_item\ts\n",
      "          global_item\tt\n",
      "        mode\n",
      "          None\n",
      "          out\n",
      "        global_item_list\n",
      "          global_item\tx\n",
      "          global_item\ty\n",
      "          global_item\tz\n",
      "      dependency_relation\n",
      "        dependency_clauses\n",
      "          dependency_clause\n",
      "            exported_variable_list\n",
      "              exported_variable\tr\n",
      "              exported_variable\tx\n",
      "              exported_variable\ty\n",
      "            extended_imported_item_list\n",
      "              None\n",
      "              imported_item_list\n",
      "                imported_item\tg\n",
      "                imported_item\th\n",
      "                imported_item\ts\n",
      "          dependency_clause\n",
      "            exported_variable_list\n",
      "              exported_variable\ts\n",
      "              None\n",
      "            extended_imported_item_list\t*\n",
      "          dependency_clause\n",
      "            exported_variable_list\n",
      "              exported_variable\tt\n",
      "              None\n",
      "            extended_imported_item_list\n",
      "              *\n",
      "              imported_item_list\n",
      "                imported_item\ty\n",
      "                imported_item\tz\n",
      "          None\n",
      "      None\n",
      "      None\n",
      "\n"
     ]
    }
   ],
   "source": [
    "print( _.pretty() )"
   ]
  },
  {
   "cell_type": "code",
   "execution_count": 209,
   "id": "d6d38bfe-b96a-477d-8dd0-a84bf93aa44a",
   "metadata": {},
   "outputs": [
    {
     "name": "stdout",
     "output_type": "stream",
     "text": [
      "procedure P1 (a : in integer; b : in out integer; c : natural)\n",
      "          with\n",
      "             global => (input => (g, h, j),\n",
      "                       in_out => (r, s, t),\n",
      "                       output =>  (x, y, z)),\n",
      "             depends => ((r, x, y) => (g, h, s),\n",
      "                         s => + null,\n",
      "                         t => + (y, z))\n"
     ]
    },
    {
     "data": {
      "text/plain": [
       "Tree(Token('RULE', 'procedure_body'), [Tree(Token('RULE', 'procedure_specification'), [Tree(Token('RULE', 'procedure_name'), [Token('NAME', 'P1')]), Tree(Token('RULE', 'parameter_list'), [Tree(Token('RULE', 'parameter'), [Tree(Token('RULE', 'variable_name'), [Token('NAME', 'a')]), Tree(Token('RULE', 'mode'), [Token('IN', 'in'), None]), Tree(Token('RULE', 'type_name'), [Token('NAME', 'integer')])]), Tree(Token('RULE', 'parameter'), [Tree(Token('RULE', 'variable_name'), [Token('NAME', 'b')]), Tree(Token('RULE', 'mode'), [Token('IN', 'in'), Token('OUT', 'out')]), Tree(Token('RULE', 'type_name'), [Token('NAME', 'integer')])]), Tree(Token('RULE', 'parameter'), [Tree(Token('RULE', 'variable_name'), [Token('NAME', 'c')]), Tree(Token('RULE', 'mode'), [None, None]), Tree(Token('RULE', 'type_name'), [Token('NAME', 'natural')])])])]), Tree(Token('RULE', 'contract'), [Tree(Token('RULE', 'spark_2014_subprogram_contract'), [Tree(Token('RULE', 'aspect_clauses'), [Tree(Token('RULE', 'aspect_clause'), [Tree(Token('RULE', 'global_aspect'), [Tree(Token('RULE', 'global_specification'), [Tree(Token('RULE', 'moded_global_list'), [Tree(Token('RULE', 'mode_selector'), [Token('INPUT', 'input')]), Tree(Token('RULE', 'global_list'), [Tree(Token('RULE', 'global_item'), [Token('NAME', 'g')]), Tree(Token('RULE', 'global_item'), [Token('NAME', 'h')]), Tree(Token('RULE', 'global_item'), [Token('NAME', 'j')])])]), Tree(Token('RULE', 'moded_global_list'), [Tree(Token('RULE', 'mode_selector'), [Token('IN_OUT', 'in_out')]), Tree(Token('RULE', 'global_list'), [Tree(Token('RULE', 'global_item'), [Token('NAME', 'r')]), Tree(Token('RULE', 'global_item'), [Token('NAME', 's')]), Tree(Token('RULE', 'global_item'), [Token('NAME', 't')])])]), Tree(Token('RULE', 'moded_global_list'), [Tree(Token('RULE', 'mode_selector'), [Token('OUTPUT', 'output')]), Tree(Token('RULE', 'global_list'), [Tree(Token('RULE', 'global_item'), [Token('NAME', 'x')]), Tree(Token('RULE', 'global_item'), [Token('NAME', 'y')]), Tree(Token('RULE', 'global_item'), [Token('NAME', 'z')])])])])]), None, None, None]), Tree(Token('RULE', 'aspect_clause'), [None, Tree(Token('RULE', 'dependency_aspect'), [Tree(Token('RULE', 'dependency_list'), [Tree(Token('RULE', 'dependency_specification'), [Tree(Token('RULE', 'output_list'), [Tree(Token('RULE', 'output'), [Token('NAME', 'r')]), Tree(Token('RULE', 'output'), [Token('NAME', 'x')]), Tree(Token('RULE', 'output'), [Token('NAME', 'y')])]), None, Tree(Token('RULE', 'input_list'), [Tree(Token('RULE', 'input'), [Token('NAME', 'g')]), Tree(Token('RULE', 'input'), [Token('NAME', 'h')]), Tree(Token('RULE', 'input'), [Token('NAME', 's')])])]), Tree(Token('RULE', 'dependency_specification'), [Tree(Token('RULE', 'output_list'), [Tree(Token('RULE', 'output'), [Token('NAME', 's')])]), Token('PLUS', '+'), Tree(Token('RULE', 'input_list'), [Token('NULL', 'null')])]), Tree(Token('RULE', 'dependency_specification'), [Tree(Token('RULE', 'output_list'), [Tree(Token('RULE', 'output'), [Token('NAME', 't')])]), Token('PLUS', '+'), Tree(Token('RULE', 'input_list'), [Tree(Token('RULE', 'input'), [Token('NAME', 'y')]), Tree(Token('RULE', 'input'), [Token('NAME', 'z')])])])])]), None, None])])])])])"
      ]
     },
     "execution_count": 209,
     "metadata": {},
     "output_type": "execute_result"
    }
   ],
   "source": [
    "text = '''procedure P1 (a : in integer; b : in out integer; c : natural)\n",
    "          with\n",
    "             global => (input => (g, h, j),\n",
    "                       in_out => (r, s, t),\n",
    "                       output =>  (x, y, z)),\n",
    "             depends => ((r, x, y) => (g, h, s),\n",
    "                         s => + null,\n",
    "                         t => + (y, z))'''\n",
    "print (text)\n",
    "subprogram_body.parse(text)"
   ]
  },
  {
   "cell_type": "code",
   "execution_count": 210,
   "id": "d1db2f50-d3cd-4a16-9caa-0036de69d581",
   "metadata": {},
   "outputs": [
    {
     "name": "stdout",
     "output_type": "stream",
     "text": [
      "procedure_body\n",
      "  procedure_specification\n",
      "    procedure_name\tP1\n",
      "    parameter_list\n",
      "      parameter\n",
      "        variable_name\ta\n",
      "        mode\n",
      "          in\n",
      "          None\n",
      "        type_name\tinteger\n",
      "      parameter\n",
      "        variable_name\tb\n",
      "        mode\n",
      "          in\n",
      "          out\n",
      "        type_name\tinteger\n",
      "      parameter\n",
      "        variable_name\tc\n",
      "        mode\n",
      "          None\n",
      "          None\n",
      "        type_name\tnatural\n",
      "  contract\n",
      "    spark_2014_subprogram_contract\n",
      "      aspect_clauses\n",
      "        aspect_clause\n",
      "          global_aspect\n",
      "            global_specification\n",
      "              moded_global_list\n",
      "                mode_selector\tinput\n",
      "                global_list\n",
      "                  global_item\tg\n",
      "                  global_item\th\n",
      "                  global_item\tj\n",
      "              moded_global_list\n",
      "                mode_selector\tin_out\n",
      "                global_list\n",
      "                  global_item\tr\n",
      "                  global_item\ts\n",
      "                  global_item\tt\n",
      "              moded_global_list\n",
      "                mode_selector\toutput\n",
      "                global_list\n",
      "                  global_item\tx\n",
      "                  global_item\ty\n",
      "                  global_item\tz\n",
      "          None\n",
      "          None\n",
      "          None\n",
      "        aspect_clause\n",
      "          None\n",
      "          dependency_aspect\n",
      "            dependency_list\n",
      "              dependency_specification\n",
      "                output_list\n",
      "                  output\tr\n",
      "                  output\tx\n",
      "                  output\ty\n",
      "                None\n",
      "                input_list\n",
      "                  input\tg\n",
      "                  input\th\n",
      "                  input\ts\n",
      "              dependency_specification\n",
      "                output_list\n",
      "                  output\ts\n",
      "                +\n",
      "                input_list\tnull\n",
      "              dependency_specification\n",
      "                output_list\n",
      "                  output\tt\n",
      "                +\n",
      "                input_list\n",
      "                  input\ty\n",
      "                  input\tz\n",
      "          None\n",
      "          None\n",
      "\n"
     ]
    }
   ],
   "source": [
    "print( _.pretty() )"
   ]
  },
  {
   "cell_type": "code",
   "execution_count": 211,
   "id": "888cca45-3311-4666-89e3-7358c9dcbb90",
   "metadata": {},
   "outputs": [
    {
     "name": "stdout",
     "output_type": "stream",
     "text": [
      "procedure P1 (a : in integer; b : in out integer; c : natural)\n",
      "          --# global in g, h, j;\n",
      "          --#        in out r, s, t;\n",
      "          --#        out    x, y, z;\n",
      "          --# derives r, x, y from g, h, s &\n",
      "                      s from *             &\n",
      "                      t from *, y, z;\n",
      "          --# pre \"g > 0\"\n",
      "          --# post \"x = g + h\"\n"
     ]
    },
    {
     "data": {
      "text/plain": [
       "Tree(Token('RULE', 'procedure_body'), [Tree(Token('RULE', 'procedure_specification'), [Tree(Token('RULE', 'procedure_name'), [Token('NAME', 'P1')]), Tree(Token('RULE', 'parameter_list'), [Tree(Token('RULE', 'parameter'), [Tree(Token('RULE', 'variable_name'), [Token('NAME', 'a')]), Tree(Token('RULE', 'mode'), [Token('IN', 'in'), None]), Tree(Token('RULE', 'type_name'), [Token('NAME', 'integer')])]), Tree(Token('RULE', 'parameter'), [Tree(Token('RULE', 'variable_name'), [Token('NAME', 'b')]), Tree(Token('RULE', 'mode'), [Token('IN', 'in'), Token('OUT', 'out')]), Tree(Token('RULE', 'type_name'), [Token('NAME', 'integer')])]), Tree(Token('RULE', 'parameter'), [Tree(Token('RULE', 'variable_name'), [Token('NAME', 'c')]), Tree(Token('RULE', 'mode'), [None, None]), Tree(Token('RULE', 'type_name'), [Token('NAME', 'natural')])])])]), Tree(Token('RULE', 'contract'), [Tree(Token('RULE', 'classic_subprogram_contract'), [Tree(Token('RULE', 'global_definition'), [Tree(Token('RULE', 'mode'), [Token('IN', 'in'), None]), Tree(Token('RULE', 'global_item_list'), [Tree(Token('RULE', 'global_item'), [Token('NAME', 'g')]), Tree(Token('RULE', 'global_item'), [Token('NAME', 'h')]), Tree(Token('RULE', 'global_item'), [Token('NAME', 'j')])]), Tree(Token('RULE', 'mode'), [Token('IN', 'in'), Token('OUT', 'out')]), Tree(Token('RULE', 'global_item_list'), [Tree(Token('RULE', 'global_item'), [Token('NAME', 'r')]), Tree(Token('RULE', 'global_item'), [Token('NAME', 's')]), Tree(Token('RULE', 'global_item'), [Token('NAME', 't')])]), Tree(Token('RULE', 'mode'), [None, Token('OUT', 'out')]), Tree(Token('RULE', 'global_item_list'), [Tree(Token('RULE', 'global_item'), [Token('NAME', 'x')]), Tree(Token('RULE', 'global_item'), [Token('NAME', 'y')]), Tree(Token('RULE', 'global_item'), [Token('NAME', 'z')])])]), Tree(Token('RULE', 'dependency_relation'), [Tree(Token('RULE', 'dependency_clauses'), [Tree(Token('RULE', 'dependency_clause'), [Tree(Token('RULE', 'exported_variable_list'), [Tree(Token('RULE', 'exported_variable'), [Token('NAME', 'r')]), Tree(Token('RULE', 'exported_variable'), [Token('NAME', 'x')]), Tree(Token('RULE', 'exported_variable'), [Token('NAME', 'y')])]), Tree(Token('RULE', 'extended_imported_item_list'), [None, Tree(Token('RULE', 'imported_item_list'), [Tree(Token('RULE', 'imported_item'), [Token('NAME', 'g')]), Tree(Token('RULE', 'imported_item'), [Token('NAME', 'h')]), Tree(Token('RULE', 'imported_item'), [Token('NAME', 's')])])])]), Tree(Token('RULE', 'dependency_clause'), [Tree(Token('RULE', 'exported_variable_list'), [Tree(Token('RULE', 'exported_variable'), [Token('NAME', 's')]), None]), Tree(Token('RULE', 'extended_imported_item_list'), [Token('STAR', '*')])]), Tree(Token('RULE', 'dependency_clause'), [Tree(Token('RULE', 'exported_variable_list'), [Tree(Token('RULE', 'exported_variable'), [Token('NAME', 't')]), None]), Tree(Token('RULE', 'extended_imported_item_list'), [Token('STAR', '*'), Tree(Token('RULE', 'imported_item_list'), [Tree(Token('RULE', 'imported_item'), [Token('NAME', 'y')]), Tree(Token('RULE', 'imported_item'), [Token('NAME', 'z')])])])]), None])]), Tree(Token('RULE', 'precondition'), [Tree(Token('RULE', 'classic_predicate'), [Token('STRING', '\"g > 0\"')])]), Tree(Token('RULE', 'postcondition'), [Tree(Token('RULE', 'classic_predicate'), [Token('STRING', '\"x = g + h\"')])])])])])"
      ]
     },
     "execution_count": 211,
     "metadata": {},
     "output_type": "execute_result"
    }
   ],
   "source": [
    "text = '''procedure P1 (a : in integer; b : in out integer; c : natural)\n",
    "          --# global in g, h, j;\n",
    "          --#        in out r, s, t;\n",
    "          --#        out    x, y, z;\n",
    "          --# derives r, x, y from g, h, s &\n",
    "                      s from *             &\n",
    "                      t from *, y, z;\n",
    "          --# pre \"g > 0\"\n",
    "          --# post \"x = g + h\"'''\n",
    "print (text)\n",
    "subprogram_body.parse(text)"
   ]
  },
  {
   "cell_type": "code",
   "execution_count": 212,
   "id": "8af44f90-9ad9-4770-8bdd-2f1cd0d4544e",
   "metadata": {},
   "outputs": [
    {
     "name": "stdout",
     "output_type": "stream",
     "text": [
      "procedure_body\n",
      "  procedure_specification\n",
      "    procedure_name\tP1\n",
      "    parameter_list\n",
      "      parameter\n",
      "        variable_name\ta\n",
      "        mode\n",
      "          in\n",
      "          None\n",
      "        type_name\tinteger\n",
      "      parameter\n",
      "        variable_name\tb\n",
      "        mode\n",
      "          in\n",
      "          out\n",
      "        type_name\tinteger\n",
      "      parameter\n",
      "        variable_name\tc\n",
      "        mode\n",
      "          None\n",
      "          None\n",
      "        type_name\tnatural\n",
      "  contract\n",
      "    classic_subprogram_contract\n",
      "      global_definition\n",
      "        mode\n",
      "          in\n",
      "          None\n",
      "        global_item_list\n",
      "          global_item\tg\n",
      "          global_item\th\n",
      "          global_item\tj\n",
      "        mode\n",
      "          in\n",
      "          out\n",
      "        global_item_list\n",
      "          global_item\tr\n",
      "          global_item\ts\n",
      "          global_item\tt\n",
      "        mode\n",
      "          None\n",
      "          out\n",
      "        global_item_list\n",
      "          global_item\tx\n",
      "          global_item\ty\n",
      "          global_item\tz\n",
      "      dependency_relation\n",
      "        dependency_clauses\n",
      "          dependency_clause\n",
      "            exported_variable_list\n",
      "              exported_variable\tr\n",
      "              exported_variable\tx\n",
      "              exported_variable\ty\n",
      "            extended_imported_item_list\n",
      "              None\n",
      "              imported_item_list\n",
      "                imported_item\tg\n",
      "                imported_item\th\n",
      "                imported_item\ts\n",
      "          dependency_clause\n",
      "            exported_variable_list\n",
      "              exported_variable\ts\n",
      "              None\n",
      "            extended_imported_item_list\t*\n",
      "          dependency_clause\n",
      "            exported_variable_list\n",
      "              exported_variable\tt\n",
      "              None\n",
      "            extended_imported_item_list\n",
      "              *\n",
      "              imported_item_list\n",
      "                imported_item\ty\n",
      "                imported_item\tz\n",
      "          None\n",
      "      precondition\n",
      "        classic_predicate\t\"g > 0\"\n",
      "      postcondition\n",
      "        classic_predicate\t\"x = g + h\"\n",
      "\n"
     ]
    }
   ],
   "source": [
    "print( _.pretty() )"
   ]
  },
  {
   "cell_type": "code",
   "execution_count": 213,
   "id": "7d094bc8-bef4-42dc-80fb-78870de8ac7c",
   "metadata": {},
   "outputs": [
    {
     "name": "stdout",
     "output_type": "stream",
     "text": [
      "procedure P1 (a : in integer; b : in out integer; c : natural)\n",
      "          with\n",
      "             global => (input => (g, h, j),\n",
      "                       in_out => (r, s, t),\n",
      "                       output =>  (x, y, z)),\n",
      "             depends => ((r, x, y) => (g, h, s),\n",
      "                         s => + null,\n",
      "                         t => + (y, z)),\n",
      "             pre     => \"g > 0\",\n",
      "             post    => \"x = g + h\"\n"
     ]
    },
    {
     "data": {
      "text/plain": [
       "Tree(Token('RULE', 'procedure_body'), [Tree(Token('RULE', 'procedure_specification'), [Tree(Token('RULE', 'procedure_name'), [Token('NAME', 'P1')]), Tree(Token('RULE', 'parameter_list'), [Tree(Token('RULE', 'parameter'), [Tree(Token('RULE', 'variable_name'), [Token('NAME', 'a')]), Tree(Token('RULE', 'mode'), [Token('IN', 'in'), None]), Tree(Token('RULE', 'type_name'), [Token('NAME', 'integer')])]), Tree(Token('RULE', 'parameter'), [Tree(Token('RULE', 'variable_name'), [Token('NAME', 'b')]), Tree(Token('RULE', 'mode'), [Token('IN', 'in'), Token('OUT', 'out')]), Tree(Token('RULE', 'type_name'), [Token('NAME', 'integer')])]), Tree(Token('RULE', 'parameter'), [Tree(Token('RULE', 'variable_name'), [Token('NAME', 'c')]), Tree(Token('RULE', 'mode'), [None, None]), Tree(Token('RULE', 'type_name'), [Token('NAME', 'natural')])])])]), Tree(Token('RULE', 'contract'), [Tree(Token('RULE', 'spark_2014_subprogram_contract'), [Tree(Token('RULE', 'aspect_clauses'), [Tree(Token('RULE', 'aspect_clause'), [Tree(Token('RULE', 'global_aspect'), [Tree(Token('RULE', 'global_specification'), [Tree(Token('RULE', 'moded_global_list'), [Tree(Token('RULE', 'mode_selector'), [Token('INPUT', 'input')]), Tree(Token('RULE', 'global_list'), [Tree(Token('RULE', 'global_item'), [Token('NAME', 'g')]), Tree(Token('RULE', 'global_item'), [Token('NAME', 'h')]), Tree(Token('RULE', 'global_item'), [Token('NAME', 'j')])])]), Tree(Token('RULE', 'moded_global_list'), [Tree(Token('RULE', 'mode_selector'), [Token('IN_OUT', 'in_out')]), Tree(Token('RULE', 'global_list'), [Tree(Token('RULE', 'global_item'), [Token('NAME', 'r')]), Tree(Token('RULE', 'global_item'), [Token('NAME', 's')]), Tree(Token('RULE', 'global_item'), [Token('NAME', 't')])])]), Tree(Token('RULE', 'moded_global_list'), [Tree(Token('RULE', 'mode_selector'), [Token('OUTPUT', 'output')]), Tree(Token('RULE', 'global_list'), [Tree(Token('RULE', 'global_item'), [Token('NAME', 'x')]), Tree(Token('RULE', 'global_item'), [Token('NAME', 'y')]), Tree(Token('RULE', 'global_item'), [Token('NAME', 'z')])])])])]), None, None, None]), Tree(Token('RULE', 'aspect_clause'), [None, Tree(Token('RULE', 'dependency_aspect'), [Tree(Token('RULE', 'dependency_list'), [Tree(Token('RULE', 'dependency_specification'), [Tree(Token('RULE', 'output_list'), [Tree(Token('RULE', 'output'), [Token('NAME', 'r')]), Tree(Token('RULE', 'output'), [Token('NAME', 'x')]), Tree(Token('RULE', 'output'), [Token('NAME', 'y')])]), None, Tree(Token('RULE', 'input_list'), [Tree(Token('RULE', 'input'), [Token('NAME', 'g')]), Tree(Token('RULE', 'input'), [Token('NAME', 'h')]), Tree(Token('RULE', 'input'), [Token('NAME', 's')])])]), Tree(Token('RULE', 'dependency_specification'), [Tree(Token('RULE', 'output_list'), [Tree(Token('RULE', 'output'), [Token('NAME', 's')])]), Token('PLUS', '+'), Tree(Token('RULE', 'input_list'), [Token('NULL', 'null')])]), Tree(Token('RULE', 'dependency_specification'), [Tree(Token('RULE', 'output_list'), [Tree(Token('RULE', 'output'), [Token('NAME', 't')])]), Token('PLUS', '+'), Tree(Token('RULE', 'input_list'), [Tree(Token('RULE', 'input'), [Token('NAME', 'y')]), Tree(Token('RULE', 'input'), [Token('NAME', 'z')])])])])]), None, None]), Tree(Token('RULE', 'aspect_clause'), [None, None, Tree(Token('RULE', 'precondition_aspect'), [Tree(Token('RULE', 'predicate'), [Token('STRING', '\"g > 0\"')])]), None]), Tree(Token('RULE', 'aspect_clause'), [None, None, None, Tree(Token('RULE', 'postcondition_aspect'), [Tree(Token('RULE', 'predicate'), [Token('STRING', '\"x = g + h\"')])])])])])])])"
      ]
     },
     "execution_count": 213,
     "metadata": {},
     "output_type": "execute_result"
    }
   ],
   "source": [
    "text = '''procedure P1 (a : in integer; b : in out integer; c : natural)\n",
    "          with\n",
    "             global => (input => (g, h, j),\n",
    "                       in_out => (r, s, t),\n",
    "                       output =>  (x, y, z)),\n",
    "             depends => ((r, x, y) => (g, h, s),\n",
    "                         s => + null,\n",
    "                         t => + (y, z)),\n",
    "             pre     => \"g > 0\",\n",
    "             post    => \"x = g + h\"'''\n",
    "print (text)\n",
    "subprogram_body.parse(text)"
   ]
  },
  {
   "cell_type": "code",
   "execution_count": 214,
   "id": "5398ab31-f929-474b-860b-43f9a45d9e29",
   "metadata": {},
   "outputs": [
    {
     "name": "stdout",
     "output_type": "stream",
     "text": [
      "procedure_body\n",
      "  procedure_specification\n",
      "    procedure_name\tP1\n",
      "    parameter_list\n",
      "      parameter\n",
      "        variable_name\ta\n",
      "        mode\n",
      "          in\n",
      "          None\n",
      "        type_name\tinteger\n",
      "      parameter\n",
      "        variable_name\tb\n",
      "        mode\n",
      "          in\n",
      "          out\n",
      "        type_name\tinteger\n",
      "      parameter\n",
      "        variable_name\tc\n",
      "        mode\n",
      "          None\n",
      "          None\n",
      "        type_name\tnatural\n",
      "  contract\n",
      "    spark_2014_subprogram_contract\n",
      "      aspect_clauses\n",
      "        aspect_clause\n",
      "          global_aspect\n",
      "            global_specification\n",
      "              moded_global_list\n",
      "                mode_selector\tinput\n",
      "                global_list\n",
      "                  global_item\tg\n",
      "                  global_item\th\n",
      "                  global_item\tj\n",
      "              moded_global_list\n",
      "                mode_selector\tin_out\n",
      "                global_list\n",
      "                  global_item\tr\n",
      "                  global_item\ts\n",
      "                  global_item\tt\n",
      "              moded_global_list\n",
      "                mode_selector\toutput\n",
      "                global_list\n",
      "                  global_item\tx\n",
      "                  global_item\ty\n",
      "                  global_item\tz\n",
      "          None\n",
      "          None\n",
      "          None\n",
      "        aspect_clause\n",
      "          None\n",
      "          dependency_aspect\n",
      "            dependency_list\n",
      "              dependency_specification\n",
      "                output_list\n",
      "                  output\tr\n",
      "                  output\tx\n",
      "                  output\ty\n",
      "                None\n",
      "                input_list\n",
      "                  input\tg\n",
      "                  input\th\n",
      "                  input\ts\n",
      "              dependency_specification\n",
      "                output_list\n",
      "                  output\ts\n",
      "                +\n",
      "                input_list\tnull\n",
      "              dependency_specification\n",
      "                output_list\n",
      "                  output\tt\n",
      "                +\n",
      "                input_list\n",
      "                  input\ty\n",
      "                  input\tz\n",
      "          None\n",
      "          None\n",
      "        aspect_clause\n",
      "          None\n",
      "          None\n",
      "          precondition_aspect\n",
      "            predicate\t\"g > 0\"\n",
      "          None\n",
      "        aspect_clause\n",
      "          None\n",
      "          None\n",
      "          None\n",
      "          postcondition_aspect\n",
      "            predicate\t\"x = g + h\"\n",
      "\n"
     ]
    }
   ],
   "source": [
    "print( _.pretty() )"
   ]
  },
  {
   "cell_type": "code",
   "execution_count": null,
   "id": "39409dc9-2f58-4634-93bf-1e446f215b83",
   "metadata": {},
   "outputs": [],
   "source": []
  }
 ],
 "metadata": {
  "kernelspec": {
   "display_name": "Python 3 (ipykernel)",
   "language": "python",
   "name": "python3"
  },
  "language_info": {
   "codemirror_mode": {
    "name": "ipython",
    "version": 3
   },
   "file_extension": ".py",
   "mimetype": "text/x-python",
   "name": "python",
   "nbconvert_exporter": "python",
   "pygments_lexer": "ipython3",
   "version": "3.12.7"
  }
 },
 "nbformat": 4,
 "nbformat_minor": 5
}
